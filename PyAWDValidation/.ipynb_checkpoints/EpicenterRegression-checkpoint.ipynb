{
 "cells": [
  {
   "cell_type": "code",
   "execution_count": 9,
   "id": "79c0c981",
   "metadata": {},
   "outputs": [],
   "source": [
    "import pyawd\n",
    "import numpy as np\n",
    "import sktime\n",
    "import matplotlib.pyplot as plt"
   ]
  },
  {
   "cell_type": "code",
   "execution_count": 10,
   "id": "961f6b9f",
   "metadata": {},
   "outputs": [
    {
     "name": "stdout",
     "output_type": "stream",
     "text": [
      "Training input shape: (4096, 4, 1000)\n",
      "Training output shape: (4096, 2)\n",
      "Testing input shape: (512, 4, 1000)\n",
      "Testing output shape: (512, 2)\n"
     ]
    }
   ],
   "source": [
    "X_train = np.load(\"train_big_interrogators_data.npy\")[:, 0]\n",
    "Y_train = np.load(\"train_big_epicenters.npy\")\n",
    "\n",
    "X_test = np.load(\"test2D_interrogators_data.npy\")[:, 0]\n",
    "Y_test = np.load(\"test2D_epicenters.npy\")\n",
    "\n",
    "X_train = X_train.reshape(X_train.shape[0], -1, X_train.shape[-1])\n",
    "X_test = X_test.reshape(X_test.shape[0], -1, X_test.shape[-1])\n",
    "\n",
    "print(\"Training input shape:\", X_train.shape)\n",
    "print(\"Training output shape:\", Y_train.shape)\n",
    "print(\"Testing input shape:\", X_test.shape)\n",
    "print(\"Testing output shape:\", Y_test.shape)"
   ]
  },
  {
   "cell_type": "code",
   "execution_count": 11,
   "id": "3b7da14f",
   "metadata": {},
   "outputs": [],
   "source": [
    "def mse(y, y_hat):\n",
    "    return np.mean((y-y_hat)**2)"
   ]
  },
  {
   "cell_type": "code",
   "execution_count": 12,
   "id": "5a7b2b05",
   "metadata": {},
   "outputs": [],
   "source": [
    "VERBOSE = True\n",
    "models = []"
   ]
  },
  {
   "cell_type": "code",
   "execution_count": 13,
   "id": "51487582",
   "metadata": {},
   "outputs": [
    {
     "name": "stdout",
     "output_type": "stream",
     "text": [
      "MSE: 0.61040\n"
     ]
    }
   ],
   "source": [
    "print(f\"MSE: %.5f\"%mse((np.random.random(Y_test.shape)*2)-1, Y_test))"
   ]
  },
  {
   "cell_type": "code",
   "execution_count": 14,
   "id": "e2774bf1",
   "metadata": {},
   "outputs": [
    {
     "name": "stdout",
     "output_type": "stream",
     "text": [
      "MSE: 0.34291\n"
     ]
    }
   ],
   "source": [
    "from sktime.regression.dummy import DummyRegressor\n",
    "models.append(DummyRegressor().fit(X_train, Y_train))\n",
    "\n",
    "Y_hat = models[-1].predict(X_test)\n",
    "\n",
    "error = mse(Y_test, Y_hat)\n",
    "print(f\"MSE: %.5f\"%error)"
   ]
  },
  {
   "cell_type": "code",
   "execution_count": 15,
   "id": "8b9db73a",
   "metadata": {},
   "outputs": [
    {
     "ename": "ImportError",
     "evalue": "cannot import name '_suppress_pd22_warning' from 'sktime.utils.warnings' (/home/ptribel/.local/lib/python3.10/site-packages/sktime/utils/warnings.py)",
     "output_type": "error",
     "traceback": [
      "\u001b[0;31m---------------------------------------------------------------------------\u001b[0m",
      "\u001b[0;31mImportError\u001b[0m                               Traceback (most recent call last)",
      "Cell \u001b[0;32mIn[15], line 1\u001b[0m\n\u001b[0;32m----> 1\u001b[0m \u001b[38;5;28;01mfrom\u001b[39;00m \u001b[38;5;21;01msktime\u001b[39;00m\u001b[38;5;21;01m.\u001b[39;00m\u001b[38;5;21;01mregression\u001b[39;00m\u001b[38;5;21;01m.\u001b[39;00m\u001b[38;5;21;01mkernel_based\u001b[39;00m \u001b[38;5;28;01mimport\u001b[39;00m TimeSeriesSVRTslearn\n\u001b[1;32m      2\u001b[0m models\u001b[38;5;241m.\u001b[39mappend(TimeSeriesSVRTslearn(n_jobs\u001b[38;5;241m=\u001b[39m\u001b[38;5;241m-\u001b[39m\u001b[38;5;241m1\u001b[39m, max_iter\u001b[38;5;241m=\u001b[39m\u001b[38;5;241m10000\u001b[39m))\n\u001b[1;32m      3\u001b[0m models[\u001b[38;5;241m-\u001b[39m\u001b[38;5;241m1\u001b[39m]\u001b[38;5;241m.\u001b[39mverbose \u001b[38;5;241m=\u001b[39m \u001b[38;5;241m1\u001b[39m\n",
      "File \u001b[0;32m~/.local/lib/python3.10/site-packages/sktime/regression/kernel_based/__init__.py:5\u001b[0m\n\u001b[1;32m      1\u001b[0m \u001b[38;5;124;03m\"\"\"Kernel based time series regressors.\"\"\"\u001b[39;00m\n\u001b[1;32m      3\u001b[0m __all__ \u001b[38;5;241m=\u001b[39m [\u001b[38;5;124m\"\u001b[39m\u001b[38;5;124mRocketRegressor\u001b[39m\u001b[38;5;124m\"\u001b[39m, \u001b[38;5;124m\"\u001b[39m\u001b[38;5;124mTimeSeriesSVRTslearn\u001b[39m\u001b[38;5;124m\"\u001b[39m]\n\u001b[0;32m----> 5\u001b[0m \u001b[38;5;28;01mfrom\u001b[39;00m \u001b[38;5;21;01msktime\u001b[39;00m\u001b[38;5;21;01m.\u001b[39;00m\u001b[38;5;21;01mregression\u001b[39;00m\u001b[38;5;21;01m.\u001b[39;00m\u001b[38;5;21;01mkernel_based\u001b[39;00m\u001b[38;5;21;01m.\u001b[39;00m\u001b[38;5;21;01m_rocket_regressor\u001b[39;00m \u001b[38;5;28;01mimport\u001b[39;00m RocketRegressor\n\u001b[1;32m      6\u001b[0m \u001b[38;5;28;01mfrom\u001b[39;00m \u001b[38;5;21;01msktime\u001b[39;00m\u001b[38;5;21;01m.\u001b[39;00m\u001b[38;5;21;01mregression\u001b[39;00m\u001b[38;5;21;01m.\u001b[39;00m\u001b[38;5;21;01mkernel_based\u001b[39;00m\u001b[38;5;21;01m.\u001b[39;00m\u001b[38;5;21;01m_svr_tslearn\u001b[39;00m \u001b[38;5;28;01mimport\u001b[39;00m TimeSeriesSVRTslearn\n",
      "File \u001b[0;32m~/.local/lib/python3.10/site-packages/sktime/regression/kernel_based/_rocket_regressor.py:13\u001b[0m\n\u001b[1;32m     10\u001b[0m \u001b[38;5;28;01mfrom\u001b[39;00m \u001b[38;5;21;01msklearn\u001b[39;00m\u001b[38;5;21;01m.\u001b[39;00m\u001b[38;5;21;01mlinear_model\u001b[39;00m \u001b[38;5;28;01mimport\u001b[39;00m RidgeCV\n\u001b[1;32m     11\u001b[0m \u001b[38;5;28;01mfrom\u001b[39;00m \u001b[38;5;21;01msklearn\u001b[39;00m\u001b[38;5;21;01m.\u001b[39;00m\u001b[38;5;21;01mpreprocessing\u001b[39;00m \u001b[38;5;28;01mimport\u001b[39;00m StandardScaler\n\u001b[0;32m---> 13\u001b[0m \u001b[38;5;28;01mfrom\u001b[39;00m \u001b[38;5;21;01msktime\u001b[39;00m\u001b[38;5;21;01m.\u001b[39;00m\u001b[38;5;21;01mpipeline\u001b[39;00m \u001b[38;5;28;01mimport\u001b[39;00m make_pipeline\n\u001b[1;32m     14\u001b[0m \u001b[38;5;28;01mfrom\u001b[39;00m \u001b[38;5;21;01msktime\u001b[39;00m\u001b[38;5;21;01m.\u001b[39;00m\u001b[38;5;21;01mregression\u001b[39;00m\u001b[38;5;21;01m.\u001b[39;00m\u001b[38;5;21;01m_delegate\u001b[39;00m \u001b[38;5;28;01mimport\u001b[39;00m _DelegatedRegressor\n\u001b[1;32m     15\u001b[0m \u001b[38;5;28;01mfrom\u001b[39;00m \u001b[38;5;21;01msktime\u001b[39;00m\u001b[38;5;21;01m.\u001b[39;00m\u001b[38;5;21;01mregression\u001b[39;00m\u001b[38;5;21;01m.\u001b[39;00m\u001b[38;5;21;01mbase\u001b[39;00m \u001b[38;5;28;01mimport\u001b[39;00m BaseRegressor\n",
      "File \u001b[0;32m~/.local/lib/python3.10/site-packages/sktime/pipeline/__init__.py:7\u001b[0m\n\u001b[1;32m      5\u001b[0m \u001b[38;5;28;01mfrom\u001b[39;00m \u001b[38;5;21;01msktime\u001b[39;00m\u001b[38;5;21;01m.\u001b[39;00m\u001b[38;5;21;01mpipeline\u001b[39;00m\u001b[38;5;21;01m.\u001b[39;00m\u001b[38;5;21;01m_make_pipeline\u001b[39;00m \u001b[38;5;28;01mimport\u001b[39;00m make_pipeline\n\u001b[1;32m      6\u001b[0m \u001b[38;5;28;01mfrom\u001b[39;00m \u001b[38;5;21;01msktime\u001b[39;00m\u001b[38;5;21;01m.\u001b[39;00m\u001b[38;5;21;01mpipeline\u001b[39;00m\u001b[38;5;21;01m.\u001b[39;00m\u001b[38;5;21;01m_sklearn_to_sktime\u001b[39;00m \u001b[38;5;28;01mimport\u001b[39;00m sklearn_to_sktime\n\u001b[0;32m----> 7\u001b[0m \u001b[38;5;28;01mfrom\u001b[39;00m \u001b[38;5;21;01msktime\u001b[39;00m\u001b[38;5;21;01m.\u001b[39;00m\u001b[38;5;21;01mpipeline\u001b[39;00m\u001b[38;5;21;01m.\u001b[39;00m\u001b[38;5;21;01mpipeline\u001b[39;00m \u001b[38;5;28;01mimport\u001b[39;00m Pipeline\n",
      "File \u001b[0;32m~/.local/lib/python3.10/site-packages/sktime/pipeline/pipeline.py:7\u001b[0m\n\u001b[1;32m      4\u001b[0m \u001b[38;5;28;01mfrom\u001b[39;00m \u001b[38;5;21;01mcopy\u001b[39;00m \u001b[38;5;28;01mimport\u001b[39;00m copy, deepcopy\n\u001b[1;32m      6\u001b[0m \u001b[38;5;28;01mfrom\u001b[39;00m \u001b[38;5;21;01msktime\u001b[39;00m\u001b[38;5;21;01m.\u001b[39;00m\u001b[38;5;21;01mbase\u001b[39;00m \u001b[38;5;28;01mimport\u001b[39;00m BaseEstimator\n\u001b[0;32m----> 7\u001b[0m \u001b[38;5;28;01mfrom\u001b[39;00m \u001b[38;5;21;01msktime\u001b[39;00m\u001b[38;5;21;01m.\u001b[39;00m\u001b[38;5;21;01mpipeline\u001b[39;00m\u001b[38;5;21;01m.\u001b[39;00m\u001b[38;5;21;01mstep\u001b[39;00m \u001b[38;5;28;01mimport\u001b[39;00m Step\n\u001b[1;32m      8\u001b[0m \u001b[38;5;28;01mfrom\u001b[39;00m \u001b[38;5;21;01msktime\u001b[39;00m\u001b[38;5;21;01m.\u001b[39;00m\u001b[38;5;21;01mtransformations\u001b[39;00m\u001b[38;5;21;01m.\u001b[39;00m\u001b[38;5;21;01mseries\u001b[39;00m\u001b[38;5;21;01m.\u001b[39;00m\u001b[38;5;21;01msubset\u001b[39;00m \u001b[38;5;28;01mimport\u001b[39;00m ColumnSelect\n\u001b[1;32m     10\u001b[0m __author__ \u001b[38;5;241m=\u001b[39m [\u001b[38;5;124m\"\u001b[39m\u001b[38;5;124mbenHeid\u001b[39m\u001b[38;5;124m\"\u001b[39m]\n",
      "File \u001b[0;32m~/.local/lib/python3.10/site-packages/sktime/pipeline/step.py:8\u001b[0m\n\u001b[1;32m      4\u001b[0m \u001b[38;5;28;01mfrom\u001b[39;00m \u001b[38;5;21;01mcopy\u001b[39;00m \u001b[38;5;28;01mimport\u001b[39;00m deepcopy\n\u001b[1;32m      6\u001b[0m \u001b[38;5;28;01mimport\u001b[39;00m \u001b[38;5;21;01mpandas\u001b[39;00m \u001b[38;5;28;01mas\u001b[39;00m \u001b[38;5;21;01mpd\u001b[39;00m\n\u001b[0;32m----> 8\u001b[0m \u001b[38;5;28;01mfrom\u001b[39;00m \u001b[38;5;21;01msktime\u001b[39;00m\u001b[38;5;21;01m.\u001b[39;00m\u001b[38;5;21;01mforecasting\u001b[39;00m\u001b[38;5;21;01m.\u001b[39;00m\u001b[38;5;21;01mbase\u001b[39;00m \u001b[38;5;28;01mimport\u001b[39;00m BaseForecaster\n\u001b[1;32m     10\u001b[0m ALLOWED_METHODS \u001b[38;5;241m=\u001b[39m [\n\u001b[1;32m     11\u001b[0m     \u001b[38;5;124m\"\u001b[39m\u001b[38;5;124mtransform\u001b[39m\u001b[38;5;124m\"\u001b[39m,\n\u001b[1;32m     12\u001b[0m     \u001b[38;5;124m\"\u001b[39m\u001b[38;5;124minverse_transform\u001b[39m\u001b[38;5;124m\"\u001b[39m,\n\u001b[0;32m   (...)\u001b[0m\n\u001b[1;32m     16\u001b[0m     \u001b[38;5;124m\"\u001b[39m\u001b[38;5;124mpredict_residuals\u001b[39m\u001b[38;5;124m\"\u001b[39m,\n\u001b[1;32m     17\u001b[0m ]\n\u001b[1;32m     20\u001b[0m \u001b[38;5;28;01mclass\u001b[39;00m \u001b[38;5;21;01mStepResult\u001b[39;00m:\n",
      "File \u001b[0;32m~/.local/lib/python3.10/site-packages/sktime/forecasting/base/__init__.py:10\u001b[0m\n\u001b[1;32m      2\u001b[0m \u001b[38;5;124;03m\"\"\"Implements base classes for forecasting in sktime.\"\"\"\u001b[39;00m\n\u001b[1;32m      4\u001b[0m __all__ \u001b[38;5;241m=\u001b[39m [\n\u001b[1;32m      5\u001b[0m     \u001b[38;5;124m\"\u001b[39m\u001b[38;5;124mForecastingHorizon\u001b[39m\u001b[38;5;124m\"\u001b[39m,\n\u001b[1;32m      6\u001b[0m     \u001b[38;5;124m\"\u001b[39m\u001b[38;5;124mBaseForecaster\u001b[39m\u001b[38;5;124m\"\u001b[39m,\n\u001b[1;32m      7\u001b[0m     \u001b[38;5;124m\"\u001b[39m\u001b[38;5;124m_BaseGlobalForecaster\u001b[39m\u001b[38;5;124m\"\u001b[39m,\n\u001b[1;32m      8\u001b[0m ]\n\u001b[0;32m---> 10\u001b[0m \u001b[38;5;28;01mfrom\u001b[39;00m \u001b[38;5;21;01msktime\u001b[39;00m\u001b[38;5;21;01m.\u001b[39;00m\u001b[38;5;21;01mforecasting\u001b[39;00m\u001b[38;5;21;01m.\u001b[39;00m\u001b[38;5;21;01mbase\u001b[39;00m\u001b[38;5;21;01m.\u001b[39;00m\u001b[38;5;21;01m_base\u001b[39;00m \u001b[38;5;28;01mimport\u001b[39;00m BaseForecaster, _BaseGlobalForecaster\n\u001b[1;32m     11\u001b[0m \u001b[38;5;28;01mfrom\u001b[39;00m \u001b[38;5;21;01msktime\u001b[39;00m\u001b[38;5;21;01m.\u001b[39;00m\u001b[38;5;21;01mforecasting\u001b[39;00m\u001b[38;5;21;01m.\u001b[39;00m\u001b[38;5;21;01mbase\u001b[39;00m\u001b[38;5;21;01m.\u001b[39;00m\u001b[38;5;21;01m_fh\u001b[39;00m \u001b[38;5;28;01mimport\u001b[39;00m ForecastingHorizon\n",
      "File \u001b[0;32m~/.local/lib/python3.10/site-packages/sktime/forecasting/base/_base.py:57\u001b[0m\n\u001b[1;32m     46\u001b[0m \u001b[38;5;28;01mfrom\u001b[39;00m \u001b[38;5;21;01msktime\u001b[39;00m\u001b[38;5;21;01m.\u001b[39;00m\u001b[38;5;21;01mdatatypes\u001b[39;00m \u001b[38;5;28;01mimport\u001b[39;00m (\n\u001b[1;32m     47\u001b[0m     VectorizedDF,\n\u001b[1;32m     48\u001b[0m     check_is_error_msg,\n\u001b[0;32m   (...)\u001b[0m\n\u001b[1;32m     54\u001b[0m     update_data,\n\u001b[1;32m     55\u001b[0m )\n\u001b[1;32m     56\u001b[0m \u001b[38;5;28;01mfrom\u001b[39;00m \u001b[38;5;21;01msktime\u001b[39;00m\u001b[38;5;21;01m.\u001b[39;00m\u001b[38;5;21;01mdatatypes\u001b[39;00m\u001b[38;5;21;01m.\u001b[39;00m\u001b[38;5;21;01m_dtypekind\u001b[39;00m \u001b[38;5;28;01mimport\u001b[39;00m DtypeKind\n\u001b[0;32m---> 57\u001b[0m \u001b[38;5;28;01mfrom\u001b[39;00m \u001b[38;5;21;01msktime\u001b[39;00m\u001b[38;5;21;01m.\u001b[39;00m\u001b[38;5;21;01mforecasting\u001b[39;00m\u001b[38;5;21;01m.\u001b[39;00m\u001b[38;5;21;01mbase\u001b[39;00m\u001b[38;5;21;01m.\u001b[39;00m\u001b[38;5;21;01m_fh\u001b[39;00m \u001b[38;5;28;01mimport\u001b[39;00m ForecastingHorizon\n\u001b[1;32m     58\u001b[0m \u001b[38;5;28;01mfrom\u001b[39;00m \u001b[38;5;21;01msktime\u001b[39;00m\u001b[38;5;21;01m.\u001b[39;00m\u001b[38;5;21;01mutils\u001b[39;00m\u001b[38;5;21;01m.\u001b[39;00m\u001b[38;5;21;01mdatetime\u001b[39;00m \u001b[38;5;28;01mimport\u001b[39;00m _shift\n\u001b[1;32m     59\u001b[0m \u001b[38;5;28;01mfrom\u001b[39;00m \u001b[38;5;21;01msktime\u001b[39;00m\u001b[38;5;21;01m.\u001b[39;00m\u001b[38;5;21;01mutils\u001b[39;00m\u001b[38;5;21;01m.\u001b[39;00m\u001b[38;5;21;01mdependencies\u001b[39;00m \u001b[38;5;28;01mimport\u001b[39;00m _check_estimator_deps, _check_soft_dependencies\n",
      "File \u001b[0;32m~/.local/lib/python3.10/site-packages/sktime/forecasting/base/_fh.py:15\u001b[0m\n\u001b[1;32m     12\u001b[0m \u001b[38;5;28;01mimport\u001b[39;00m \u001b[38;5;21;01mpandas\u001b[39;00m \u001b[38;5;28;01mas\u001b[39;00m \u001b[38;5;21;01mpd\u001b[39;00m\n\u001b[1;32m     13\u001b[0m \u001b[38;5;28;01mfrom\u001b[39;00m \u001b[38;5;21;01mpandas\u001b[39;00m\u001b[38;5;21;01m.\u001b[39;00m\u001b[38;5;21;01mtseries\u001b[39;00m\u001b[38;5;21;01m.\u001b[39;00m\u001b[38;5;21;01mfrequencies\u001b[39;00m \u001b[38;5;28;01mimport\u001b[39;00m to_offset\n\u001b[0;32m---> 15\u001b[0m \u001b[38;5;28;01mfrom\u001b[39;00m \u001b[38;5;21;01msktime\u001b[39;00m\u001b[38;5;21;01m.\u001b[39;00m\u001b[38;5;21;01mutils\u001b[39;00m\u001b[38;5;21;01m.\u001b[39;00m\u001b[38;5;21;01mdatetime\u001b[39;00m \u001b[38;5;28;01mimport\u001b[39;00m _coerce_duration_to_int\n\u001b[1;32m     16\u001b[0m \u001b[38;5;28;01mfrom\u001b[39;00m \u001b[38;5;21;01msktime\u001b[39;00m\u001b[38;5;21;01m.\u001b[39;00m\u001b[38;5;21;01mutils\u001b[39;00m\u001b[38;5;21;01m.\u001b[39;00m\u001b[38;5;21;01mdependencies\u001b[39;00m \u001b[38;5;28;01mimport\u001b[39;00m _check_soft_dependencies\n\u001b[1;32m     17\u001b[0m \u001b[38;5;28;01mfrom\u001b[39;00m \u001b[38;5;21;01msktime\u001b[39;00m\u001b[38;5;21;01m.\u001b[39;00m\u001b[38;5;21;01mutils\u001b[39;00m\u001b[38;5;21;01m.\u001b[39;00m\u001b[38;5;21;01mvalidation\u001b[39;00m \u001b[38;5;28;01mimport\u001b[39;00m (\n\u001b[1;32m     18\u001b[0m     array_is_int,\n\u001b[1;32m     19\u001b[0m     array_is_timedelta_or_date_offset,\n\u001b[0;32m   (...)\u001b[0m\n\u001b[1;32m     22\u001b[0m     is_timedelta_or_date_offset,\n\u001b[1;32m     23\u001b[0m )\n",
      "File \u001b[0;32m~/.local/lib/python3.10/site-packages/sktime/utils/datetime.py:17\u001b[0m\n\u001b[1;32m     15\u001b[0m \u001b[38;5;28;01mfrom\u001b[39;00m \u001b[38;5;21;01msktime\u001b[39;00m\u001b[38;5;21;01m.\u001b[39;00m\u001b[38;5;21;01mdatatypes\u001b[39;00m\u001b[38;5;21;01m.\u001b[39;00m\u001b[38;5;21;01m_utilities\u001b[39;00m \u001b[38;5;28;01mimport\u001b[39;00m get_time_index\n\u001b[1;32m     16\u001b[0m \u001b[38;5;28;01mfrom\u001b[39;00m \u001b[38;5;21;01msktime\u001b[39;00m\u001b[38;5;21;01m.\u001b[39;00m\u001b[38;5;21;01mutils\u001b[39;00m\u001b[38;5;21;01m.\u001b[39;00m\u001b[38;5;21;01mvalidation\u001b[39;00m\u001b[38;5;21;01m.\u001b[39;00m\u001b[38;5;21;01mseries\u001b[39;00m \u001b[38;5;28;01mimport\u001b[39;00m check_time_index, is_integer_index\n\u001b[0;32m---> 17\u001b[0m \u001b[38;5;28;01mfrom\u001b[39;00m \u001b[38;5;21;01msktime\u001b[39;00m\u001b[38;5;21;01m.\u001b[39;00m\u001b[38;5;21;01mutils\u001b[39;00m\u001b[38;5;21;01m.\u001b[39;00m\u001b[38;5;21;01mwarnings\u001b[39;00m \u001b[38;5;28;01mimport\u001b[39;00m _suppress_pd22_warning\n\u001b[1;32m     20\u001b[0m \u001b[38;5;28;01mdef\u001b[39;00m \u001b[38;5;21m_coerce_duration_to_int\u001b[39m(\n\u001b[1;32m     21\u001b[0m     duration: Union[\u001b[38;5;28mint\u001b[39m, pd\u001b[38;5;241m.\u001b[39mTimedelta, pd\u001b[38;5;241m.\u001b[39mtseries\u001b[38;5;241m.\u001b[39moffsets\u001b[38;5;241m.\u001b[39mBaseOffset, pd\u001b[38;5;241m.\u001b[39mIndex],\n\u001b[1;32m     22\u001b[0m     freq: \u001b[38;5;28mstr\u001b[39m \u001b[38;5;241m=\u001b[39m \u001b[38;5;28;01mNone\u001b[39;00m,\n\u001b[1;32m     23\u001b[0m ) \u001b[38;5;241m-\u001b[39m\u001b[38;5;241m>\u001b[39m Union[\u001b[38;5;28mint\u001b[39m, pd\u001b[38;5;241m.\u001b[39mIndex]:\n\u001b[1;32m     24\u001b[0m \u001b[38;5;250m    \u001b[39m\u001b[38;5;124;03m\"\"\"Coerce durations into integer representations for a given unit of duration.\u001b[39;00m\n\u001b[1;32m     25\u001b[0m \n\u001b[1;32m     26\u001b[0m \u001b[38;5;124;03m    Parameters\u001b[39;00m\n\u001b[0;32m   (...)\u001b[0m\n\u001b[1;32m     36\u001b[0m \u001b[38;5;124;03m        Duration in integer values for given unit\u001b[39;00m\n\u001b[1;32m     37\u001b[0m \u001b[38;5;124;03m    \"\"\"\u001b[39;00m\n",
      "\u001b[0;31mImportError\u001b[0m: cannot import name '_suppress_pd22_warning' from 'sktime.utils.warnings' (/home/ptribel/.local/lib/python3.10/site-packages/sktime/utils/warnings.py)"
     ]
    }
   ],
   "source": [
    "from sktime.regression.kernel_based import TimeSeriesSVRTslearn\n",
    "models.append(TimeSeriesSVRTslearn(n_jobs=-1, max_iter=10000))\n",
    "models[-1].verbose = 1\n",
    "models[-1].fit(X_train, Y_train)\n",
    "\n",
    "Y_hat = models[-1].predict(X_test)\n",
    "\n",
    "error = mse(Y_test, Y_hat)\n",
    "print(f\"MSE: %.5f\"%error)"
   ]
  },
  {
   "cell_type": "code",
   "execution_count": 16,
   "id": "c3038a6a",
   "metadata": {},
   "outputs": [
    {
     "name": "stderr",
     "output_type": "stream",
     "text": [
      "2024-08-23 13:14:49.281302: I external/local_tsl/tsl/cuda/cudart_stub.cc:32] Could not find cuda drivers on your machine, GPU will not be used.\n",
      "2024-08-23 13:14:49.295090: E external/local_xla/xla/stream_executor/cuda/cuda_fft.cc:479] Unable to register cuFFT factory: Attempting to register factory for plugin cuFFT when one has already been registered\n",
      "2024-08-23 13:14:49.321021: E external/local_xla/xla/stream_executor/cuda/cuda_dnn.cc:10575] Unable to register cuDNN factory: Attempting to register factory for plugin cuDNN when one has already been registered\n",
      "2024-08-23 13:14:49.321049: E external/local_xla/xla/stream_executor/cuda/cuda_blas.cc:1442] Unable to register cuBLAS factory: Attempting to register factory for plugin cuBLAS when one has already been registered\n",
      "2024-08-23 13:14:49.339977: I tensorflow/core/platform/cpu_feature_guard.cc:210] This TensorFlow binary is optimized to use available CPU instructions in performance-critical operations.\n",
      "To enable the following instructions: AVX2 FMA, in other operations, rebuild TensorFlow with the appropriate compiler flags.\n",
      "2024-08-23 13:14:50.433182: W tensorflow/compiler/tf2tensorrt/utils/py_utils.cc:38] TF-TRT Warning: Could not find TensorRT\n"
     ]
    },
    {
     "name": "stdout",
     "output_type": "stream",
     "text": [
      "Unexpected exception formatting exception. Falling back to standard exception\n"
     ]
    },
    {
     "name": "stderr",
     "output_type": "stream",
     "text": [
      "Traceback (most recent call last):\n",
      "  File \"/opt/conda/lib/python3.10/site-packages/IPython/core/interactiveshell.py\", line 3508, in run_code\n",
      "    exec(code_obj, self.user_global_ns, self.user_ns)\n",
      "  File \"/tmp/ipykernel_316/457900169.py\", line 4, in <module>\n",
      "    models[-1].fit(X_train, Y_train)\n",
      "  File \"/home/ptribel/.local/lib/python3.10/site-packages/sktime/regression/base.py\", line 207, in fit\n",
      "    if self._is_vectorized:\n",
      "  File \"/home/ptribel/.local/lib/python3.10/site-packages/sktime/base/_base_panel.py\", line 73, in _vectorize\n",
      "    ests_ = self._yvec.vectorize_est(self, method=\"clone\", **kwargs)\n",
      "  File \"/home/ptribel/.local/lib/python3.10/site-packages/sktime/datatypes/_vectorize.py\", line 630, in vectorize_est\n",
      "    ret = parallelize(\n",
      "  File \"/home/ptribel/.local/lib/python3.10/site-packages/sktime/utils/parallel.py\", line 72, in parallelize\n",
      "    ret = para_fun(\n",
      "  File \"/home/ptribel/.local/lib/python3.10/site-packages/sktime/utils/parallel.py\", line 92, in _parallelize_none\n",
      "    ret = [fun(x, meta=meta) for x in iter]\n",
      "  File \"/home/ptribel/.local/lib/python3.10/site-packages/sktime/utils/parallel.py\", line 92, in <listcomp>\n",
      "    ret = [fun(x, meta=meta) for x in iter]\n",
      "  File \"/home/ptribel/.local/lib/python3.10/site-packages/sktime/datatypes/_vectorize.py\", line 679, in _vectorize_est_single\n",
      "    est_i_result = est_i_method(**args_i)\n",
      "  File \"/home/ptribel/.local/lib/python3.10/site-packages/sktime/regression/base.py\", line 245, in fit\n",
      "  File \"/home/ptribel/.local/lib/python3.10/site-packages/sktime/regression/deep_learning/cnn.py\", line 202, in _fit\n",
      "    self.model_ = self.build_model(self.input_shape)\n",
      "  File \"/home/ptribel/.local/lib/python3.10/site-packages/sktime/regression/deep_learning/cnn.py\", line 160, in build_model\n",
      "    input_layer, output_layer = self._network.build_network(input_shape, **kwargs)\n",
      "  File \"/home/ptribel/.local/lib/python3.10/site-packages/sktime/networks/cnn.py\", line 101, in build_network\n",
      "    input_layer = keras.layers.Input(input_shape)\n",
      "  File \"/home/ptribel/.local/lib/python3.10/site-packages/tensorflow/python/util/lazy_loader.py\", line 181, in __getattr__\n",
      "    self._initialize()\n",
      "  File \"/home/ptribel/.local/lib/python3.10/site-packages/tensorflow/python/util/lazy_loader.py\", line 147, in _initialize\n",
      "    import keras  # pylint: disable=g-import-not-at-top\n",
      "  File \"/home/ptribel/.local/lib/python3.10/site-packages/keras/__init__.py\", line 4, in <module>\n",
      "    from keras.api import DTypePolicy\n",
      "  File \"/home/ptribel/.local/lib/python3.10/site-packages/keras/api/__init__.py\", line 8, in <module>\n",
      "    from keras.api import activations\n",
      "  File \"/home/ptribel/.local/lib/python3.10/site-packages/keras/api/activations/__init__.py\", line 7, in <module>\n",
      "    from keras.src.activations import deserialize\n",
      "  File \"/home/ptribel/.local/lib/python3.10/site-packages/keras/src/__init__.py\", line 1, in <module>\n",
      "    from keras.src import activations\n",
      "  File \"/home/ptribel/.local/lib/python3.10/site-packages/keras/src/activations/__init__.py\", line 3, in <module>\n",
      "    from keras.src.activations.activations import elu\n",
      "  File \"/home/ptribel/.local/lib/python3.10/site-packages/keras/src/activations/activations.py\", line 1, in <module>\n",
      "    from keras.src import backend\n",
      "  File \"/home/ptribel/.local/lib/python3.10/site-packages/keras/src/backend/__init__.py\", line 39, in <module>\n",
      "    from keras.src.backend.torch import *  # noqa: F403\n",
      "  File \"/home/ptribel/.local/lib/python3.10/site-packages/keras/src/backend/torch/__init__.py\", line 17, in <module>\n",
      "    from keras.src.backend.torch import core\n",
      "  File \"/home/ptribel/.local/lib/python3.10/site-packages/keras/src/backend/torch/core.py\", line 47, in <module>\n",
      "    \"float8_e4m3fn\": torch.float8_e4m3fn,\n",
      "AttributeError: module 'torch' has no attribute 'float8_e4m3fn'\n",
      "\n",
      "During handling of the above exception, another exception occurred:\n",
      "\n",
      "Traceback (most recent call last):\n",
      "  File \"/opt/conda/lib/python3.10/site-packages/IPython/core/interactiveshell.py\", line 2105, in showtraceback\n",
      "    stb = self.InteractiveTB.structured_traceback(\n",
      "  File \"/opt/conda/lib/python3.10/site-packages/IPython/core/ultratb.py\", line 1396, in structured_traceback\n",
      "    return FormattedTB.structured_traceback(\n",
      "  File \"/opt/conda/lib/python3.10/site-packages/IPython/core/ultratb.py\", line 1287, in structured_traceback\n",
      "    return VerboseTB.structured_traceback(\n",
      "  File \"/opt/conda/lib/python3.10/site-packages/IPython/core/ultratb.py\", line 1140, in structured_traceback\n",
      "    formatted_exception = self.format_exception_as_a_whole(etype, evalue, etb, number_of_lines_of_context,\n",
      "  File \"/opt/conda/lib/python3.10/site-packages/IPython/core/ultratb.py\", line 1055, in format_exception_as_a_whole\n",
      "    frames.append(self.format_record(record))\n",
      "  File \"/opt/conda/lib/python3.10/site-packages/IPython/core/ultratb.py\", line 955, in format_record\n",
      "    frame_info.lines, Colors, self.has_colors, lvals\n",
      "  File \"/opt/conda/lib/python3.10/site-packages/IPython/core/ultratb.py\", line 778, in lines\n",
      "    return self._sd.lines\n",
      "  File \"/opt/conda/lib/python3.10/site-packages/stack_data/utils.py\", line 144, in cached_property_wrapper\n",
      "    value = obj.__dict__[self.func.__name__] = self.func(obj)\n",
      "  File \"/opt/conda/lib/python3.10/site-packages/stack_data/core.py\", line 734, in lines\n",
      "    pieces = self.included_pieces\n",
      "  File \"/opt/conda/lib/python3.10/site-packages/stack_data/utils.py\", line 144, in cached_property_wrapper\n",
      "    value = obj.__dict__[self.func.__name__] = self.func(obj)\n",
      "  File \"/opt/conda/lib/python3.10/site-packages/stack_data/core.py\", line 681, in included_pieces\n",
      "    pos = scope_pieces.index(self.executing_piece)\n",
      "  File \"/opt/conda/lib/python3.10/site-packages/stack_data/utils.py\", line 144, in cached_property_wrapper\n",
      "    value = obj.__dict__[self.func.__name__] = self.func(obj)\n",
      "  File \"/opt/conda/lib/python3.10/site-packages/stack_data/core.py\", line 660, in executing_piece\n",
      "    return only(\n",
      "  File \"/opt/conda/lib/python3.10/site-packages/executing/executing.py\", line 116, in only\n",
      "    raise NotOneValueFound('Expected one value, found 0')\n",
      "executing.executing.NotOneValueFound: Expected one value, found 0\n"
     ]
    }
   ],
   "source": [
    "from sktime.regression.deep_learning import CNNRegressor\n",
    "models.append(CNNRegressor(n_epochs=10, batch_size=8, activation=\"tanh\"))\n",
    "models[-1].verbose = VERBOSE\n",
    "models[-1].fit(X_train, Y_train)\n",
    "\n",
    "Y_hat = models[-1].predict(X_test)\n",
    "\n",
    "error = mse(Y_test, Y_hat)\n",
    "print(f\"MSE: %.5f\"%error)"
   ]
  },
  {
   "cell_type": "code",
   "execution_count": 17,
   "id": "7fac701d",
   "metadata": {},
   "outputs": [
    {
     "name": "stdout",
     "output_type": "stream",
     "text": [
      "Unexpected exception formatting exception. Falling back to standard exception\n"
     ]
    },
    {
     "name": "stderr",
     "output_type": "stream",
     "text": [
      "Traceback (most recent call last):\n",
      "  File \"/opt/conda/lib/python3.10/site-packages/IPython/core/interactiveshell.py\", line 3508, in run_code\n",
      "    exec(code_obj, self.user_global_ns, self.user_ns)\n",
      "  File \"/tmp/ipykernel_316/3486209330.py\", line 4, in <module>\n",
      "    models[-1].fit(X_train, Y_train)\n",
      "  File \"/home/ptribel/.local/lib/python3.10/site-packages/sktime/regression/base.py\", line 207, in fit\n",
      "    if self._is_vectorized:\n",
      "  File \"/home/ptribel/.local/lib/python3.10/site-packages/sktime/base/_base_panel.py\", line 73, in _vectorize\n",
      "    ests_ = self._yvec.vectorize_est(self, method=\"clone\", **kwargs)\n",
      "  File \"/home/ptribel/.local/lib/python3.10/site-packages/sktime/datatypes/_vectorize.py\", line 630, in vectorize_est\n",
      "    ret = parallelize(\n",
      "  File \"/home/ptribel/.local/lib/python3.10/site-packages/sktime/utils/parallel.py\", line 72, in parallelize\n",
      "    ret = para_fun(\n",
      "  File \"/home/ptribel/.local/lib/python3.10/site-packages/sktime/utils/parallel.py\", line 92, in _parallelize_none\n",
      "    ret = [fun(x, meta=meta) for x in iter]\n",
      "  File \"/home/ptribel/.local/lib/python3.10/site-packages/sktime/utils/parallel.py\", line 92, in <listcomp>\n",
      "    ret = [fun(x, meta=meta) for x in iter]\n",
      "  File \"/home/ptribel/.local/lib/python3.10/site-packages/sktime/datatypes/_vectorize.py\", line 679, in _vectorize_est_single\n",
      "    est_i_result = est_i_method(**args_i)\n",
      "  File \"/home/ptribel/.local/lib/python3.10/site-packages/sktime/regression/base.py\", line 245, in fit\n",
      "  File \"/home/ptribel/.local/lib/python3.10/site-packages/sktime/regression/deep_learning/lstmfcn.py\", line 178, in _fit\n",
      "    self.model_ = self.build_model(self.input_shape)\n",
      "  File \"/home/ptribel/.local/lib/python3.10/site-packages/sktime/regression/deep_learning/lstmfcn.py\", line 136, in build_model\n",
      "    input_layers, output_layer = self._network.build_network(input_shape, **kwargs)\n",
      "  File \"/home/ptribel/.local/lib/python3.10/site-packages/sktime/networks/lstmfcn.py\", line 82, in build_network\n",
      "    input_layer = keras.layers.Input(shape=input_shape)\n",
      "  File \"/home/ptribel/.local/lib/python3.10/site-packages/tensorflow/python/util/lazy_loader.py\", line 182, in __getattr__\n",
      "    if self._tfll_keras_version == \"keras_3\":\n",
      "  File \"/home/ptribel/.local/lib/python3.10/site-packages/tensorflow/python/util/lazy_loader.py\", line 182, in __getattr__\n",
      "    if self._tfll_keras_version == \"keras_3\":\n",
      "  File \"/home/ptribel/.local/lib/python3.10/site-packages/tensorflow/python/util/lazy_loader.py\", line 182, in __getattr__\n",
      "    if self._tfll_keras_version == \"keras_3\":\n",
      "  [Previous line repeated 2957 more times]\n",
      "  File \"/home/ptribel/.local/lib/python3.10/site-packages/tensorflow/python/util/lazy_loader.py\", line 178, in __getattr__\n",
      "    if item in (\"_tfll_mode\", \"_tfll_initialized\", \"_tfll_name\"):\n",
      "RecursionError: maximum recursion depth exceeded in comparison\n",
      "\n",
      "During handling of the above exception, another exception occurred:\n",
      "\n",
      "Traceback (most recent call last):\n",
      "  File \"/opt/conda/lib/python3.10/site-packages/IPython/core/interactiveshell.py\", line 2105, in showtraceback\n",
      "    stb = self.InteractiveTB.structured_traceback(\n",
      "  File \"/opt/conda/lib/python3.10/site-packages/IPython/core/ultratb.py\", line 1396, in structured_traceback\n",
      "    return FormattedTB.structured_traceback(\n",
      "  File \"/opt/conda/lib/python3.10/site-packages/IPython/core/ultratb.py\", line 1287, in structured_traceback\n",
      "    return VerboseTB.structured_traceback(\n",
      "  File \"/opt/conda/lib/python3.10/site-packages/IPython/core/ultratb.py\", line 1140, in structured_traceback\n",
      "    formatted_exception = self.format_exception_as_a_whole(etype, evalue, etb, number_of_lines_of_context,\n",
      "  File \"/opt/conda/lib/python3.10/site-packages/IPython/core/ultratb.py\", line 1055, in format_exception_as_a_whole\n",
      "    frames.append(self.format_record(record))\n",
      "  File \"/opt/conda/lib/python3.10/site-packages/IPython/core/ultratb.py\", line 955, in format_record\n",
      "    frame_info.lines, Colors, self.has_colors, lvals\n",
      "  File \"/opt/conda/lib/python3.10/site-packages/IPython/core/ultratb.py\", line 778, in lines\n",
      "    return self._sd.lines\n",
      "  File \"/opt/conda/lib/python3.10/site-packages/stack_data/utils.py\", line 144, in cached_property_wrapper\n",
      "    value = obj.__dict__[self.func.__name__] = self.func(obj)\n",
      "  File \"/opt/conda/lib/python3.10/site-packages/stack_data/core.py\", line 734, in lines\n",
      "    pieces = self.included_pieces\n",
      "  File \"/opt/conda/lib/python3.10/site-packages/stack_data/utils.py\", line 144, in cached_property_wrapper\n",
      "    value = obj.__dict__[self.func.__name__] = self.func(obj)\n",
      "  File \"/opt/conda/lib/python3.10/site-packages/stack_data/core.py\", line 681, in included_pieces\n",
      "    pos = scope_pieces.index(self.executing_piece)\n",
      "  File \"/opt/conda/lib/python3.10/site-packages/stack_data/utils.py\", line 144, in cached_property_wrapper\n",
      "    value = obj.__dict__[self.func.__name__] = self.func(obj)\n",
      "  File \"/opt/conda/lib/python3.10/site-packages/stack_data/core.py\", line 660, in executing_piece\n",
      "    return only(\n",
      "  File \"/opt/conda/lib/python3.10/site-packages/executing/executing.py\", line 116, in only\n",
      "    raise NotOneValueFound('Expected one value, found 0')\n",
      "executing.executing.NotOneValueFound: Expected one value, found 0\n"
     ]
    }
   ],
   "source": [
    "from sktime.regression.deep_learning import LSTMFCNRegressor\n",
    "models.append(LSTMFCNRegressor(n_epochs=10, batch_size=8))\n",
    "models[-1].verbose = VERBOSE\n",
    "models[-1].fit(X_train, Y_train)\n",
    "\n",
    "Y_hat = models[-1].predict(X_test)\n",
    "\n",
    "error = mse(Y_test, Y_hat)\n",
    "print(f\"MSE: %.5f\"%error)"
   ]
  },
  {
   "cell_type": "code",
   "execution_count": 18,
   "id": "810d35d2",
   "metadata": {},
   "outputs": [
    {
     "name": "stdout",
     "output_type": "stream",
     "text": [
      "Unexpected exception formatting exception. Falling back to standard exception\n"
     ]
    },
    {
     "name": "stderr",
     "output_type": "stream",
     "text": [
      "Traceback (most recent call last):\n",
      "  File \"/opt/conda/lib/python3.10/site-packages/IPython/core/interactiveshell.py\", line 3508, in run_code\n",
      "    exec(code_obj, self.user_global_ns, self.user_ns)\n",
      "  File \"/tmp/ipykernel_316/280564824.py\", line 4, in <module>\n",
      "    models[-1].fit(X_train, Y_train)\n",
      "  File \"/home/ptribel/.local/lib/python3.10/site-packages/sktime/regression/base.py\", line 207, in fit\n",
      "    if self._is_vectorized:\n",
      "  File \"/home/ptribel/.local/lib/python3.10/site-packages/sktime/base/_base_panel.py\", line 73, in _vectorize\n",
      "    ests_ = self._yvec.vectorize_est(self, method=\"clone\", **kwargs)\n",
      "  File \"/home/ptribel/.local/lib/python3.10/site-packages/sktime/datatypes/_vectorize.py\", line 630, in vectorize_est\n",
      "    ret = parallelize(\n",
      "  File \"/home/ptribel/.local/lib/python3.10/site-packages/sktime/utils/parallel.py\", line 72, in parallelize\n",
      "    ret = para_fun(\n",
      "  File \"/home/ptribel/.local/lib/python3.10/site-packages/sktime/utils/parallel.py\", line 92, in _parallelize_none\n",
      "    ret = [fun(x, meta=meta) for x in iter]\n",
      "  File \"/home/ptribel/.local/lib/python3.10/site-packages/sktime/utils/parallel.py\", line 92, in <listcomp>\n",
      "    ret = [fun(x, meta=meta) for x in iter]\n",
      "  File \"/home/ptribel/.local/lib/python3.10/site-packages/sktime/datatypes/_vectorize.py\", line 679, in _vectorize_est_single\n",
      "    est_i_result = est_i_method(**args_i)\n",
      "  File \"/home/ptribel/.local/lib/python3.10/site-packages/sktime/regression/base.py\", line 245, in fit\n",
      "  File \"/home/ptribel/.local/lib/python3.10/site-packages/sktime/regression/deep_learning/rnn.py\", line 161, in _fit\n",
      "    self.model_ = self.build_model(self.input_shape)\n",
      "  File \"/home/ptribel/.local/lib/python3.10/site-packages/sktime/regression/deep_learning/rnn.py\", line 122, in build_model\n",
      "    input_layer, output_layer = self._network.build_network(input_shape, **kwargs)\n",
      "  File \"/home/ptribel/.local/lib/python3.10/site-packages/sktime/networks/rnn.py\", line 50, in build_network\n",
      "    input_layer = keras.layers.Input(input_shape)\n",
      "  File \"/home/ptribel/.local/lib/python3.10/site-packages/tensorflow/python/util/lazy_loader.py\", line 182, in __getattr__\n",
      "    if self._tfll_keras_version == \"keras_3\":\n",
      "  File \"/home/ptribel/.local/lib/python3.10/site-packages/tensorflow/python/util/lazy_loader.py\", line 182, in __getattr__\n",
      "    if self._tfll_keras_version == \"keras_3\":\n",
      "  File \"/home/ptribel/.local/lib/python3.10/site-packages/tensorflow/python/util/lazy_loader.py\", line 182, in __getattr__\n",
      "    if self._tfll_keras_version == \"keras_3\":\n",
      "  [Previous line repeated 2957 more times]\n",
      "  File \"/home/ptribel/.local/lib/python3.10/site-packages/tensorflow/python/util/lazy_loader.py\", line 178, in __getattr__\n",
      "    if item in (\"_tfll_mode\", \"_tfll_initialized\", \"_tfll_name\"):\n",
      "RecursionError: maximum recursion depth exceeded in comparison\n",
      "\n",
      "During handling of the above exception, another exception occurred:\n",
      "\n",
      "Traceback (most recent call last):\n",
      "  File \"/opt/conda/lib/python3.10/site-packages/IPython/core/interactiveshell.py\", line 2105, in showtraceback\n",
      "    stb = self.InteractiveTB.structured_traceback(\n",
      "  File \"/opt/conda/lib/python3.10/site-packages/IPython/core/ultratb.py\", line 1396, in structured_traceback\n",
      "    return FormattedTB.structured_traceback(\n",
      "  File \"/opt/conda/lib/python3.10/site-packages/IPython/core/ultratb.py\", line 1287, in structured_traceback\n",
      "    return VerboseTB.structured_traceback(\n",
      "  File \"/opt/conda/lib/python3.10/site-packages/IPython/core/ultratb.py\", line 1140, in structured_traceback\n",
      "    formatted_exception = self.format_exception_as_a_whole(etype, evalue, etb, number_of_lines_of_context,\n",
      "  File \"/opt/conda/lib/python3.10/site-packages/IPython/core/ultratb.py\", line 1055, in format_exception_as_a_whole\n",
      "    frames.append(self.format_record(record))\n",
      "  File \"/opt/conda/lib/python3.10/site-packages/IPython/core/ultratb.py\", line 955, in format_record\n",
      "    frame_info.lines, Colors, self.has_colors, lvals\n",
      "  File \"/opt/conda/lib/python3.10/site-packages/IPython/core/ultratb.py\", line 778, in lines\n",
      "    return self._sd.lines\n",
      "  File \"/opt/conda/lib/python3.10/site-packages/stack_data/utils.py\", line 144, in cached_property_wrapper\n",
      "    value = obj.__dict__[self.func.__name__] = self.func(obj)\n",
      "  File \"/opt/conda/lib/python3.10/site-packages/stack_data/core.py\", line 734, in lines\n",
      "    pieces = self.included_pieces\n",
      "  File \"/opt/conda/lib/python3.10/site-packages/stack_data/utils.py\", line 144, in cached_property_wrapper\n",
      "    value = obj.__dict__[self.func.__name__] = self.func(obj)\n",
      "  File \"/opt/conda/lib/python3.10/site-packages/stack_data/core.py\", line 681, in included_pieces\n",
      "    pos = scope_pieces.index(self.executing_piece)\n",
      "  File \"/opt/conda/lib/python3.10/site-packages/stack_data/utils.py\", line 144, in cached_property_wrapper\n",
      "    value = obj.__dict__[self.func.__name__] = self.func(obj)\n",
      "  File \"/opt/conda/lib/python3.10/site-packages/stack_data/core.py\", line 660, in executing_piece\n",
      "    return only(\n",
      "  File \"/opt/conda/lib/python3.10/site-packages/executing/executing.py\", line 116, in only\n",
      "    raise NotOneValueFound('Expected one value, found 0')\n",
      "executing.executing.NotOneValueFound: Expected one value, found 0\n"
     ]
    }
   ],
   "source": [
    "from sktime.regression.deep_learning import SimpleRNNRegressor\n",
    "models.append(SimpleRNNRegressor(n_epochs=10, batch_size=8))\n",
    "models[-1].verbose = 1\n",
    "models[-1].fit(X_train, Y_train)\n",
    "\n",
    "Y_hat = models[-1].predict(X_test)\n",
    "\n",
    "error = mse(Y_test, Y_hat)\n",
    "print(f\"MSE: %.5f\"%error)"
   ]
  },
  {
   "cell_type": "code",
   "execution_count": null,
   "id": "20df4659",
   "metadata": {},
   "outputs": [],
   "source": []
  }
 ],
 "metadata": {
  "kernelspec": {
   "display_name": "Python 3 (ipykernel)",
   "language": "python",
   "name": "python3"
  },
  "language_info": {
   "codemirror_mode": {
    "name": "ipython",
    "version": 3
   },
   "file_extension": ".py",
   "mimetype": "text/x-python",
   "name": "python",
   "nbconvert_exporter": "python",
   "pygments_lexer": "ipython3",
   "version": "3.10.14"
  }
 },
 "nbformat": 4,
 "nbformat_minor": 5
}
