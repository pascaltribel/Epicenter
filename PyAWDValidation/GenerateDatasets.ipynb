{
 "cells": [
  {
   "cell_type": "code",
   "execution_count": 5,
   "id": "8030f7a7-1898-4220-8de6-eec564392b26",
   "metadata": {},
   "outputs": [],
   "source": [
    "from pyawd import VectorAcousticWaveDataset2D\n",
    "from tqdm.auto import tqdm\n",
    "import numpy as np"
   ]
  },
  {
   "cell_type": "code",
   "execution_count": 6,
   "id": "9d3c9941-5ad1-4048-987a-ad562389e90d",
   "metadata": {},
   "outputs": [],
   "source": [
    "def generate_interrogators_dataset(X):\n",
    "    res = []\n",
    "    for i in tqdm(range(X.size)):\n",
    "        res.append(np.array([list(X[i][1].values())]))\n",
    "    return np.array(res)"
   ]
  },
  {
   "cell_type": "code",
   "execution_count": 8,
   "id": "77b02b2f-dda0-420e-8423-953e7826f0ea",
   "metadata": {},
   "outputs": [],
   "source": [
    "base_train = \"../../local/datasets/AWD/train2D\"\n",
    "N = 1024\n",
    "nx = 128\n",
    "interrogators = [(nx//4, 0), (-nx//4, 0)]\n",
    "train = VectorAcousticWaveDataset2D(N, nx=nx, interrogators=interrogators, velocity_model=\"Marmousi\")\n",
    "train.max_velocities = np.ones(N)*1000\n",
    "train.save(base_train)"
   ]
  },
  {
   "cell_type": "code",
   "execution_count": 9,
   "id": "93dcadc3-e399-4622-ba07-50d3720533f0",
   "metadata": {},
   "outputs": [
    {
     "data": {
      "application/vnd.jupyter.widget-view+json": {
       "model_id": "d028d34483b44200b5e69f0dea992ba5",
       "version_major": 2,
       "version_minor": 0
      },
      "text/plain": [
       "  0%|          | 0/1024 [00:00<?, ?it/s]"
      ]
     },
     "metadata": {},
     "output_type": "display_data"
    }
   ],
   "source": [
    "X = generate_interrogators_dataset(train)"
   ]
  },
  {
   "cell_type": "code",
   "execution_count": 10,
   "id": "98b0e44c-97ea-4a3f-be4f-59e0d97f62af",
   "metadata": {},
   "outputs": [],
   "source": [
    "np.save(base_train+\"_interrogators_data.npy\", X)\n",
    "Y = np.array([train.get_epicenter(i)/(train.nx/2) for i in range(train.size)])\n",
    "np.save(base_train+\"_epicenters.npy\", Y)"
   ]
  },
  {
   "cell_type": "code",
   "execution_count": 11,
   "id": "82b772e9-df38-4c31-a9f8-8b0ca0a05fa0",
   "metadata": {},
   "outputs": [],
   "source": [
    "base_test = \"../../local/datasets/AWD/test2D\"\n",
    "N = 256\n",
    "test = VectorAcousticWaveDataset2D(N, nx=nx, interrogators=interrogators, velocity_model=\"Marmousi\")\n",
    "test.max_velocities = np.ones(N)*1000\n",
    "test.save(base_test)"
   ]
  },
  {
   "cell_type": "code",
   "execution_count": 12,
   "id": "740d142d-6efa-4631-8c4c-ba9505b15f51",
   "metadata": {},
   "outputs": [
    {
     "data": {
      "application/vnd.jupyter.widget-view+json": {
       "model_id": "d9991610e1c143a9bd96be72a8850fac",
       "version_major": 2,
       "version_minor": 0
      },
      "text/plain": [
       "  0%|          | 0/256 [00:00<?, ?it/s]"
      ]
     },
     "metadata": {},
     "output_type": "display_data"
    }
   ],
   "source": [
    "X_test = generate_interrogators_dataset(test)\n",
    "np.save(base_test+\"_interrogators_data.npy\", X_test)"
   ]
  },
  {
   "cell_type": "code",
   "execution_count": 13,
   "id": "30ceb3be-d0c5-43dc-8768-8fe761e2364e",
   "metadata": {},
   "outputs": [],
   "source": [
    "Y_test = np.array([test.get_epicenter(i)/(test.nx/2) for i in range(test.size)])\n",
    "np.save(base_test+\"_epicenters.npy\", Y_test)"
   ]
  },
  {
   "cell_type": "code",
   "execution_count": 19,
   "id": "5b04ccb0-d383-48db-90d7-0567910cafe5",
   "metadata": {},
   "outputs": [],
   "source": [
    "%matplotlib qt\n",
    "train.plot_interrogators_response(0)"
   ]
  },
  {
   "cell_type": "code",
   "execution_count": 20,
   "id": "3cf3dd68-40d5-4b6a-a76c-3f18d65d4f37",
   "metadata": {},
   "outputs": [],
   "source": [
    "train.plot_item(0)"
   ]
  },
  {
   "cell_type": "code",
   "execution_count": null,
   "id": "1f898504-c4a0-4228-a165-ebc19d575453",
   "metadata": {},
   "outputs": [],
   "source": []
  }
 ],
 "metadata": {
  "kernelspec": {
   "display_name": "Python 3 (ipykernel)",
   "language": "python",
   "name": "python3"
  },
  "language_info": {
   "codemirror_mode": {
    "name": "ipython",
    "version": 3
   },
   "file_extension": ".py",
   "mimetype": "text/x-python",
   "name": "python",
   "nbconvert_exporter": "python",
   "pygments_lexer": "ipython3",
   "version": "3.11.6"
  }
 },
 "nbformat": 4,
 "nbformat_minor": 5
}
