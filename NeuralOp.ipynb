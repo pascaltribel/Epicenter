{
 "cells": [
  {
   "cell_type": "markdown",
   "id": "01dbfd12-c691-4d01-aad8-7092f7c367cf",
   "metadata": {},
   "source": [
    "https://slideslive.com/38941707/singlestation-earthquake-location-using-deep-neural-networks"
   ]
  },
  {
   "cell_type": "code",
   "execution_count": 1,
   "id": "f1324885-1c1b-4c91-88be-f299d8868e4a",
   "metadata": {},
   "outputs": [],
   "source": [
    "import matplotlib.pyplot as plt\n",
    "import numpy as np\n",
    "import pandas as pd\n",
    "from sklearn.metrics import f1_score, ConfusionMatrixDisplay\n",
    "\n",
    "import seisbench\n",
    "import seisbench.data as sbd\n",
    "import seisbench.generate as sbg\n",
    "\n",
    "from tqdm.auto import tqdm"
   ]
  },
  {
   "cell_type": "code",
   "execution_count": 2,
   "id": "0bceadb5-81e5-472a-9f4a-3c7c47523063",
   "metadata": {},
   "outputs": [],
   "source": [
    "from neuralop.models import *\n",
    "from neuralop import Trainer\n",
    "from neuralop import LpLoss, H1Loss\n",
    "import torch\n",
    "import torch.nn as nn\n",
    "from torch.utils.data import DataLoader\n",
    "import torch.optim as optim"
   ]
  },
  {
   "cell_type": "code",
   "execution_count": 3,
   "id": "920e97c7-d446-4e3c-8d3d-596832cd54f2",
   "metadata": {},
   "outputs": [],
   "source": [
    "stead = sbd.STEAD(component_order='ZNE')"
   ]
  },
  {
   "cell_type": "code",
   "execution_count": 4,
   "id": "6c39e272-c30e-457f-861f-896804ebdf41",
   "metadata": {},
   "outputs": [
    {
     "name": "stdout",
     "output_type": "stream",
     "text": [
      "STEAD - 1075808 traces\n",
      "STEAD - 63283 traces\n",
      "STEAD - 126566 traces\n"
     ]
    }
   ],
   "source": [
    "train, dev, test = stead.train_dev_test()\n",
    "print(train)\n",
    "print(dev)\n",
    "print(test)"
   ]
  },
  {
   "cell_type": "code",
   "execution_count": 5,
   "id": "dff4669d-edef-49ce-b369-4f0c890d73b5",
   "metadata": {},
   "outputs": [],
   "source": [
    "surface_stations = np.load(\"surface_stations.npy\")\n",
    "surface_stations = np.array(list(set([i[:-4] for i in surface_stations])))"
   ]
  },
  {
   "cell_type": "code",
   "execution_count": 6,
   "id": "4b5dde27-05d9-4fc7-b095-c4f8bf34af8c",
   "metadata": {},
   "outputs": [],
   "source": [
    "def read_snr(x):\n",
    "    x = x[1:-1]\n",
    "    return [float(i) for i in x.split(\" \") if i != \"\"]"
   ]
  },
  {
   "cell_type": "markdown",
   "id": "3e403979-5cef-4758-965a-f27bbd02c139",
   "metadata": {},
   "source": [
    "https://github.com/smousavi05/Deep-Bays-Loc/blob/main/ENZ_checker.py"
   ]
  },
  {
   "cell_type": "code",
   "execution_count": 7,
   "id": "55f7f97f-b3f8-4afa-a96d-950ad257184e",
   "metadata": {},
   "outputs": [
    {
     "name": "stderr",
     "output_type": "stream",
     "text": [
      "/var/folders/g7/l9_hhr256md6lt7yldvmnjjw0000gn/T/ipykernel_43833/504611877.py:14: FutureWarning: elementwise comparison failed; returning scalar instead, but in the future will perform elementwise comparison\n",
      "  data.filter(np.array([i in surface_stations for i in data.metadata[\"surface_code\"]]))\n"
     ]
    }
   ],
   "source": [
    "MAX_DISTANCE = 110\n",
    "def filter_data(data):\n",
    "    data.filter(data.metadata[\"source_distance_km\"].notnull())\n",
    "    data.filter(data.metadata[\"source_magnitude\"].notnull())\n",
    "    data.filter(data.metadata[\"path_back_azimuth_deg\"].notnull())\n",
    "    data.filter(data.metadata[\"trace_sampling_rate_hz\"] == 100)\n",
    "    data.filter(data.metadata[\"source_distance_km\"] <= MAX_DISTANCE)\n",
    "    #data.filter(data.metadata[\"trace_p_arrival_sample\"] >= 20)\n",
    "    data.filter(data.metadata[\"source_magnitude\"] > 0)\n",
    "    #data.filter(data.metadata[\"source_magnitude\"] < 4)\n",
    "    data.metadata[\"trace_snr_db\"] = data.metadata[\"trace_snr_db\"].apply(lambda x: np.min(read_snr(x)))\n",
    "    data.filter(data.metadata[\"trace_snr_db\"] >= 25)\n",
    "    data.metadata[\"surface_code\"] = data.metadata[\"station_network_code\"] + \"_\" + data.metadata[\"station_code\"]\n",
    "    data.filter(np.array([i in surface_stations for i in data.metadata[\"surface_code\"]]))\n",
    "\n",
    "filter_data(train)\n",
    "filter_data(dev)\n",
    "filter_data(test)"
   ]
  },
  {
   "cell_type": "code",
   "execution_count": 8,
   "id": "4349f8a6-6a38-4bc1-8d9b-3e368e131cc2",
   "metadata": {},
   "outputs": [
    {
     "name": "stdout",
     "output_type": "stream",
     "text": [
      "STEAD - 104827 traces\n",
      "STEAD - 6207 traces\n",
      "STEAD - 12236 traces\n"
     ]
    }
   ],
   "source": [
    "print(train)\n",
    "print(dev)\n",
    "print(test)"
   ]
  },
  {
   "cell_type": "code",
   "execution_count": 9,
   "id": "e6ab7287-a17c-4ff8-9159-f568c9e9031d",
   "metadata": {},
   "outputs": [],
   "source": [
    "def prepare_control(dataset):\n",
    "    control = []\n",
    "    for i in range(len(dataset)):\n",
    "        row = dataset.metadata.iloc[i]\n",
    "        control_row = {\"trace_name\": row[\"trace_name\"],\n",
    "                       \"start_sample\": row[\"trace_p_arrival_sample\"]-5,\n",
    "                       \"end_sample\": row[\"trace_p_arrival_sample\"]+25}\n",
    "        control.append(control_row)\n",
    "    return control\n",
    "\n",
    "train_control = pd.DataFrame(prepare_control(train))\n",
    "dev_control = pd.DataFrame(prepare_control(dev))\n",
    "test_control = pd.DataFrame(prepare_control(test))"
   ]
  },
  {
   "cell_type": "code",
   "execution_count": 10,
   "id": "d8bf119e-bc78-477c-9231-ba6124af10fd",
   "metadata": {},
   "outputs": [
    {
     "data": {
      "text/plain": [
       "<seisbench.generate.windows.SteeredWindow at 0x3653d7c50>"
      ]
     },
     "execution_count": 10,
     "metadata": {},
     "output_type": "execute_result"
    }
   ],
   "source": [
    "train_generator = sbg.SteeredGenerator(train, train_control)\n",
    "dev_generator = sbg.SteeredGenerator(dev, dev_control)\n",
    "test_generator = sbg.SteeredGenerator(test, test_control)\n",
    "\n",
    "@test_generator.augmentation\n",
    "@dev_generator.augmentation\n",
    "@train_generator.augmentation\n",
    "def add_augmentation(state_dict):\n",
    "    state_dict[\"ps\"] = (torch.tensor([state_dict['X'][1][\"trace_s_arrival_sample\"]-state_dict['X'][1][\"trace_p_arrival_sample\"]]), None)\n",
    "    state_dict[\"y\"] = (torch.tensor([state_dict['X'][1][\"station_latitude_deg\"]-state_dict['X'][1][\"source_latitude_deg\"],\n",
    "                                    state_dict['X'][1][\"station_longitude_deg\"]-state_dict['X'][1][\"source_longitude_deg\"]]),\n",
    "                       None)\n",
    "\n",
    "train_generator.augmentation(sbg.Normalize(detrend_axis=-1, amp_norm_axis=-1))\n",
    "dev_generator.augmentation(sbg.Normalize(detrend_axis=-1, amp_norm_axis=-1))\n",
    "test_generator.augmentation(sbg.Normalize(detrend_axis=-1, amp_norm_axis=-1))\n",
    "\n",
    "windowlen = 30\n",
    "train_generator.augmentation(sbg.SteeredWindow(windowlen=windowlen))\n",
    "dev_generator.augmentation(sbg.SteeredWindow(windowlen=windowlen))\n",
    "test_generator.augmentation(sbg.SteeredWindow(windowlen=windowlen))"
   ]
  },
  {
   "cell_type": "code",
   "execution_count": 11,
   "id": "0f2dce98-3e50-44b6-87a5-10057330e826",
   "metadata": {},
   "outputs": [],
   "source": [
    "train_loader = DataLoader(train_generator, batch_size=32, shuffle=True)\n",
    "dev_loader = DataLoader(dev_generator, batch_size=len(dev_generator), shuffle=False)\n",
    "test_loader = DataLoader(test_generator, batch_size=1000, shuffle=False)"
   ]
  },
  {
   "cell_type": "code",
   "execution_count": 12,
   "id": "45805fae-56ca-4da8-96f6-9e2c82554926",
   "metadata": {},
   "outputs": [
    {
     "data": {
      "image/png": "[encoded data removed]",
      "text/plain": [
       "<Figure size 640x480 with 1 Axes>"
      ]
     },
     "metadata": {},
     "output_type": "display_data"
    }
   ],
   "source": [
    "item = 0\n",
    "plt.plot(train_generator[item]['X'].T)\n",
    "plt.title(str(train_generator[item]['y']))\n",
    "plt.legend([\"Vertical\", \"North/South\", \"West/East\"])\n",
    "plt.show()"
   ]
  },
  {
   "cell_type": "code",
   "execution_count": 13,
   "id": "10cfc289-e3ec-4a82-a6ac-ac35db5f33bc",
   "metadata": {},
   "outputs": [],
   "source": [
    "torch.set_default_dtype(torch.float32)\n",
    "\n",
    "class FNORegressor(nn.Module):\n",
    "    def __init__(self):\n",
    "        super().__init__()\n",
    "        self.fno = FNO1d(n_modes_height=32,\n",
    "                        hidden_channels=16,\n",
    "                        in_channels=3,\n",
    "                        out_channels=3,\n",
    "                        n_layers=12)\n",
    "\n",
    "        self.d = nn.Dropout(0.3)\n",
    "\n",
    "        self.flatten = nn.Flatten()\n",
    "        self.tanh = nn.Tanh()\n",
    "        self.mlp1 = nn.Linear(3*30, 25)\n",
    "        self.mlp2 = nn.Linear(25+1, 2)\n",
    "        \n",
    "    def forward(self, x, ps):\n",
    "        x = self.d(self.tanh(self.fno(x)))\n",
    "        return self.mlp2(torch.concatenate([self.d(self.tanh(self.mlp1(self.flatten(x)))), ps], axis=1))\n",
    "\n",
    "class TCNRegressor(nn.Module):\n",
    "    def __init__(self):\n",
    "        super().__init__()\n",
    "        \n",
    "        self.c0 = nn.Conv1d(in_channels=3, out_channels=6, kernel_size=3, padding=1)\n",
    "        self.c1 = nn.Conv1d(in_channels=6, out_channels=12, kernel_size=3, padding=1)\n",
    "        self.c2 = nn.Conv1d(in_channels=12, out_channels=24, kernel_size=3, padding=1)\n",
    "\n",
    "        self.d = nn.Dropout(0.3)\n",
    "\n",
    "        self.flatten = nn.Flatten()\n",
    "        self.tanh = nn.Tanh()\n",
    "        self.mlp1 = nn.Linear(24*30, 25)\n",
    "        self.mlp2 = nn.Linear(25+1, 2)\n",
    "        \n",
    "    def forward(self, x, ps):\n",
    "        x = self.d(self.tanh(self.c0(x)))\n",
    "        x = self.d(self.tanh(self.c1(x)))\n",
    "        x = self.d(self.tanh(self.c2(x)))\n",
    "        return self.mlp2(torch.concatenate([self.d(self.tanh(self.mlp1(self.flatten(x)))), ps], axis=1))\n",
    "\n",
    "class CNNRegressor(nn.Module):\n",
    "    def __init__(self):\n",
    "        super().__init__()\n",
    "        \n",
    "        self.c0 = nn.Conv2d(in_channels=1, out_channels=6, kernel_size=3, padding=1)\n",
    "        self.c1 = nn.Conv2d(in_channels=6, out_channels=12, kernel_size=3, padding=1)\n",
    "        self.c2 = nn.Conv2d(in_channels=12, out_channels=24, kernel_size=3, padding=1)\n",
    "\n",
    "        self.d = nn.Dropout(0.3)\n",
    "\n",
    "        self.flatten = nn.Flatten()\n",
    "        self.tanh = nn.Tanh()\n",
    "        self.mlp1 = nn.Linear(2160, 25)\n",
    "        self.mlp2 = nn.Linear(25+1, 2)\n",
    "        \n",
    "    def forward(self, x, ps):\n",
    "        x = x.unsqueeze(1)\n",
    "        x = self.d(self.tanh(self.c0(x)))\n",
    "        x = self.d(self.tanh(self.c1(x)))\n",
    "        x = self.d(self.tanh(self.c2(x)))\n",
    "        return self.mlp2(torch.concatenate([self.d(self.tanh(self.mlp1(self.flatten(x)))), ps], axis=1))\n",
    "\n",
    "class MLPRegressor(nn.Module):\n",
    "    def __init__(self):\n",
    "        super().__init__()\n",
    "        \n",
    "        self.c0 = nn.Linear(30, 64)\n",
    "        self.c1 = nn.Linear(64, 32)\n",
    "        self.c2 = nn.Linear(32, 16)\n",
    "\n",
    "        self.d = nn.Dropout(0.3)\n",
    "        \n",
    "        self.flatten = nn.Flatten()\n",
    "        self.tanh = nn.Tanh()\n",
    "        self.mlp1 = nn.Linear(16*3, 8)\n",
    "        self.mlp2 = nn.Linear(8+1, 2)\n",
    "        \n",
    "    def forward(self, x, ps):\n",
    "        x = x.unsqueeze(1)\n",
    "        x = self.d(self.tanh(self.c0(x)))\n",
    "        x = self.d(self.tanh(self.c1(x)))\n",
    "        x = self.d(self.tanh(self.c2(x)))\n",
    "        return self.mlp2(torch.concatenate([self.d(self.tanh(self.mlp1(self.flatten(x)))), ps], axis=1))\n"
   ]
  },
  {
   "cell_type": "code",
   "execution_count": 14,
   "id": "fa94ac24-daca-49dd-8575-c63553e068f9",
   "metadata": {},
   "outputs": [],
   "source": [
    "def deg_to_km(x):\n",
    "    return torch.tan(x*(2*np.pi/360))*6371"
   ]
  },
  {
   "cell_type": "code",
   "execution_count": 15,
   "id": "416e3e8c-a078-4c4b-a436-f516b23ee908",
   "metadata": {},
   "outputs": [],
   "source": [
    "device = 'mps'"
   ]
  },
  {
   "cell_type": "code",
   "execution_count": null,
   "id": "0f88283c-4dd8-4e5a-a34b-8a77983b94b1",
   "metadata": {},
   "outputs": [
    {
     "data": {
      "application/vnd.jupyter.widget-view+json": {
       "model_id": "2d11cb50d8eb4609a04b6e72ae86577c",
       "version_major": 2,
       "version_minor": 0
      },
      "text/plain": [
       "  0%|          | 0/200 [00:00<?, ?it/s]"
      ]
     },
     "metadata": {},
     "output_type": "display_data"
    }
   ],
   "source": [
    "num_epochs = 200\n",
    "min_losses = []\n",
    "for model in [FNORegressor().to(device), TCNRegressor().to(device), CNNRegressor().to(device), MLPRegressor().to(device)]:\n",
    "    criterion = nn.MSELoss()\n",
    "    l1 = nn.L1Loss()\n",
    "    optimizer = optim.AdamW(model.parameters(), lr=0.0005)\n",
    "    scheduler = optim.lr_scheduler.CosineAnnealingLR(optimizer, T_max=30)\n",
    "    losses = []\n",
    "    for epoch in (pbar:=tqdm(range(num_epochs))):\n",
    "        epoch_losses = []\n",
    "        for batch in ((train_loader)):\n",
    "            optimizer.zero_grad()\n",
    "            outputs = model(batch['X'].to(device), batch['ps'].to(device, dtype=torch.float32))\n",
    "            loss = criterion(outputs, batch['y'].to(device, dtype=torch.float32))\n",
    "            epoch_losses.append(deg_to_km(l1(outputs, batch['y'].to(device, dtype=torch.float32))).item())\n",
    "            loss.backward()\n",
    "            optimizer.step()\n",
    "            pbar.set_description(f'Epoch {epoch}/{num_epochs}: ' + f\"Loss: %.4f km\"%(np.mean(epoch_losses)))\n",
    "        losses.append(np.mean(epoch_losses))\n",
    "        scheduler.step()\n",
    "    min_losses.append(min(losses))"
   ]
  },
  {
   "cell_type": "code",
   "execution_count": null,
   "id": "20cdcab2-b704-451b-aa2e-0e5c162bd579",
   "metadata": {},
   "outputs": [],
   "source": [
    "print(min_losses)"
   ]
  },
  {
   "cell_type": "code",
   "execution_count": null,
   "id": "040140a7-4d6b-47c2-9d2a-9a51bc3fc10e",
   "metadata": {},
   "outputs": [],
   "source": [
    "plt.plot(losses[1:])\n",
    "plt.xlabel(\"Epoch\")\n",
    "plt.ylabel(\"MAE\")\n",
    "plt.title(\"Validation MAE evolution\")\n",
    "plt.show()"
   ]
  },
  {
   "cell_type": "code",
   "execution_count": null,
   "id": "99f34f71-57e3-4439-8621-9023d85548b9",
   "metadata": {},
   "outputs": [],
   "source": [
    "iter_test_loader = iter(test_loader)\n",
    "data = next(iter_test_loader)\n",
    "y, y_hat = data['y'], model(data['X'], data['ps']).detach().numpy()"
   ]
  },
  {
   "cell_type": "code",
   "execution_count": null,
   "id": "25778ec4-13c7-437a-9146-b91832b603e1",
   "metadata": {},
   "outputs": [],
   "source": [
    "plt.hist(np.array(y_hat, copy=False), bins=100)\n",
    "plt.show()"
   ]
  },
  {
   "cell_type": "code",
   "execution_count": null,
   "id": "76cf25d8-1107-4bf6-9d4a-fb052ac4507b",
   "metadata": {},
   "outputs": [],
   "source": [
    "plt.scatter(y[:, 0], y_hat[:, 0], marker='.')\n",
    "plt.scatter(y[:, 1], y_hat[:, 1], marker='.')\n",
    "plt.xlim(-1, 1)\n",
    "plt.ylim(-1, 1)\n",
    "plt.legend([\"x\", \"y\"])\n",
    "plt.xlabel(\"Expected\")\n",
    "plt.ylabel(\"Predicted\")\n",
    "#plt.title(f\"Average distance with ground truth: %.5f km\"%np.mean((((y[:, 0]-y_hat[:, 0])**2) + ((y[:, 1]-y_hat[:, 1])**2))**0.5))\n",
    "plt.show()"
   ]
  },
  {
   "cell_type": "code",
   "execution_count": null,
   "id": "604da020-5feb-4bb5-8e46-83dc588aaebc",
   "metadata": {},
   "outputs": [],
   "source": [
    "for i in range(10):\n",
    "    plt.plot([y[i, 0], y_hat[i, 0]], [y[i, 1], y_hat[i, 1]])\n",
    "plt.xlim(-0.5, 0.5)\n",
    "plt.ylim(-0.5, 0.5)\n",
    "#plt.title(f\"Average distance with ground truth: %.5f km\"%np.mean((((y[:, 0]-y_hat[:, 0])**2) + ((y[:, 1]-y_hat[:, 1])**2))**0.5))\n",
    "plt.show()"
   ]
  },
  {
   "cell_type": "code",
   "execution_count": null,
   "id": "1d2f9e2b-b566-4594-aad3-0833e35ded93",
   "metadata": {},
   "outputs": [],
   "source": []
  }
 ],
 "metadata": {
  "kernelspec": {
   "display_name": "Python 3 (ipykernel)",
   "language": "python",
   "name": "python3"
  },
  "language_info": {
   "codemirror_mode": {
    "name": "ipython",
    "version": 3
   },
   "file_extension": ".py",
   "mimetype": "text/x-python",
   "name": "python",
   "nbconvert_exporter": "python",
   "pygments_lexer": "ipython3",
   "version": "3.11.6"
  }
 },
 "nbformat": 4,
 "nbformat_minor": 5
}
