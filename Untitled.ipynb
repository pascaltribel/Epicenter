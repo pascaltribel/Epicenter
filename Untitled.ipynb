{
 "cells": [
  {
   "cell_type": "markdown",
   "id": "fff71f49-034a-4e00-bafd-aaebe20f397b",
   "metadata": {},
   "source": [
    "# Corrélation et Regression"
   ]
  },
  {
   "cell_type": "code",
   "execution_count": 46,
   "id": "fa1ad4c9-c3ec-43c0-b575-beef05bdb83a",
   "metadata": {},
   "outputs": [],
   "source": [
    "import pandas as pd\n",
    "import numpy as np\n",
    "import sklearn.linear_model\n",
    "import matplotlib.pyplot as plt\n",
    "import seaborn as sns"
   ]
  },
  {
   "cell_type": "markdown",
   "id": "59d5aecf-0a0c-4e39-bf78-ec297457612f",
   "metadata": {},
   "source": [
    "On crée un ensemble points selon la formule suivante:\n",
    "\n",
    "$y = 2x_1 + x_2^2 + sin(x3) + \\frac{1}{x_4}$\n",
    "\n",
    "On veut observer quelle méthode permet le mieux de constater l'impact entre chaque variable et la cible.\n",
    "On sait que chaque variable soit corrélée à la cible. Pour l'exemple, une 5e variable $x_5$ est aléatoire (et pas corrélée du tout à la cible).\n",
    "\n",
    "On travaille sur 10000 points, et chacune des variables est aléatoire sur [0, 1].\n",
    "\n",
    "La variable $y$ contient le résultat de l'équation ci-dessus."
   ]
  },
  {
   "cell_type": "code",
   "execution_count": 67,
   "id": "61bf2059-32d7-4b78-8a02-887a4a834122",
   "metadata": {},
   "outputs": [],
   "source": [
    "n_points = 10000\n",
    "\n",
    "x1 = np.random.random(n_points)*10\n",
    "x2 = np.random.random(n_points)*10\n",
    "x3 = np.random.random(n_points)*10\n",
    "x4 = np.random.random(n_points)*10\n",
    "x5 = np.random.random(n_points)*10\n",
    "\n",
    "y = 2*x1 + x2**2 + np.sin(x3) + 1/x4\n",
    "\n",
    "data = pd.DataFrame(np.array([x1, x2, x3, x4, x5]).T)\n",
    "data.columns = [\"x1\", \"x2\", \"x3\", \"x4\", \"x5\"]"
   ]
  },
  {
   "cell_type": "markdown",
   "id": "a43727c0-3e39-4b2f-b57e-68d2e140098a",
   "metadata": {},
   "source": [
    "## Regression linéaire\n",
    "On fait une regression linéaire et on regarde les coefficients."
   ]
  },
  {
   "cell_type": "code",
   "execution_count": 68,
   "id": "ae845914-c9de-4a0e-9560-106a77dea395",
   "metadata": {},
   "outputs": [],
   "source": [
    "linear_regression = sklearn.linear_model.LinearRegression().fit(data, y)"
   ]
  },
  {
   "cell_type": "code",
   "execution_count": 69,
   "id": "3be69482-3f57-4949-84be-6ca76f2ff693",
   "metadata": {},
   "outputs": [
    {
     "name": "stdout",
     "output_type": "stream",
     "text": [
      "y~x1 1.8258056046257782\n",
      "y~x2 10.073270525525833\n",
      "y~x3 -0.01299848454938591\n",
      "y~x4 -0.655074744817602\n",
      "y~x5 0.09739899951855203\n"
     ]
    }
   ],
   "source": [
    "print(\"y~x1\", linear_regression.coef_[0])\n",
    "print(\"y~x2\", linear_regression.coef_[1])\n",
    "print(\"y~x3\", linear_regression.coef_[2])\n",
    "print(\"y~x4\", linear_regression.coef_[3])\n",
    "print(\"y~x5\", linear_regression.coef_[4])"
   ]
  },
  {
   "cell_type": "markdown",
   "id": "c805114d-8287-4567-97a7-4dc634177a53",
   "metadata": {},
   "source": [
    "On remarque que le coefficient de $x_1$ est proche de celui de la formule. Celui de $x_2$ semble nettement plus important (c'est surtout dû au carré). On remarque que le coefficient de $x_3$ est du même ordre de grandeur que pour $x_5$: un sinus ne peut pas être discerné de l'aléatoire par une regression linéaire (et c'est le cas pour beaucoup de transformations)."
   ]
  },
  {
   "cell_type": "markdown",
   "id": "90e2d7ad-3ac3-4fd5-83f6-5d9bb578df84",
   "metadata": {},
   "source": [
    "## Coefficients de corrélation"
   ]
  },
  {
   "cell_type": "code",
   "execution_count": 62,
   "id": "0c8db6e3-5afe-4b3a-a26c-6bf7b49fc2bd",
   "metadata": {},
   "outputs": [
    {
     "name": "stdout",
     "output_type": "stream",
     "text": [
      "y~x1 0.504394849806459\n",
      "y~x2 0.7274971003711612\n",
      "y~x3 -0.010992881607460531\n",
      "y~x4 0.3471023741871975\n",
      "y~x5 0.0011505306789006376\n"
     ]
    }
   ],
   "source": [
    "print(\"y~x1\", np.corrcoef(y, x1)[0, 1])\n",
    "print(\"y~x2\", np.corrcoef(y, x2)[0, 1])\n",
    "print(\"y~x3\", np.corrcoef(y, x3)[0, 1])\n",
    "print(\"y~x4\", np.corrcoef(y, x4)[0, 1])\n",
    "print(\"y~x5\", np.corrcoef(y, x5)[0, 1])"
   ]
  },
  {
   "cell_type": "markdown",
   "id": "79a503a5-3eee-4b98-b157-decb3edccddf",
   "metadata": {},
   "source": [
    "On constate que $x_1$, $x_2$ et $x_4$ ont un coefficient de corrélation important, sans grosse disparité. $x_3$ et $x_5$ ont une différence significative ($\\times10$). Cependant, le coefficient de $x_1$ n'est pas celui de la formule de départ."
   ]
  },
  {
   "cell_type": "markdown",
   "id": "7e6f6c4d-0263-4d51-90af-79627688b62b",
   "metadata": {},
   "source": [
    "## Conclusion\n",
    "La regression linéaire donne un modèle qui suppose la linéarité entre les variables et la cible, et est mauvaise à reconnaître les relations non-linéaires. Les coefficients qui sont effectivement linéaires sont (a priori) ceux qui correspondent réellement au coefficient de la réalité. C'est une excellente méthode dans le cas où on fait l'hypothèse de linéarité.\n",
    "\n",
    "Si cette hypothèse n'est pas faisable, alors les coefficients de corrélations donnent probablement une meilleure indication de la relation entre les variables. Les coefficients de corrélation ne sont cependant pas capables de remarquer les situations dans lesquelles les variables interagissent (exemple: $y = x_1x_2$)."
   ]
  },
  {
   "cell_type": "code",
   "execution_count": null,
   "id": "1cd7ac9b-6761-4f91-8819-00891e76190b",
   "metadata": {},
   "outputs": [],
   "source": []
  }
 ],
 "metadata": {
  "kernelspec": {
   "display_name": "Python 3 (ipykernel)",
   "language": "python",
   "name": "python3"
  },
  "language_info": {
   "codemirror_mode": {
    "name": "ipython",
    "version": 3
   },
   "file_extension": ".py",
   "mimetype": "text/x-python",
   "name": "python",
   "nbconvert_exporter": "python",
   "pygments_lexer": "ipython3",
   "version": "3.11.6"
  }
 },
 "nbformat": 4,
 "nbformat_minor": 5
}
