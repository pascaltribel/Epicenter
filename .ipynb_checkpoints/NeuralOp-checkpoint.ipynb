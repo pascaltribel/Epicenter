{
 "cells": [
  {
   "cell_type": "markdown",
   "id": "01dbfd12-c691-4d01-aad8-7092f7c367cf",
   "metadata": {},
   "source": [
    "https://slideslive.com/38941707/singlestation-earthquake-location-using-deep-neural-networks"
   ]
  },
  {
   "cell_type": "code",
   "execution_count": 1,
   "id": "f1324885-1c1b-4c91-88be-f299d8868e4a",
   "metadata": {},
   "outputs": [],
   "source": [
    "import matplotlib.pyplot as plt\n",
    "import numpy as np\n",
    "import pandas as pd\n",
    "from sklearn.metrics import f1_score, ConfusionMatrixDisplay\n",
    "\n",
    "import seisbench\n",
    "import seisbench.data as sbd\n",
    "import seisbench.generate as sbg\n",
    "\n",
    "from tqdm.auto import tqdm"
   ]
  },
  {
   "cell_type": "code",
   "execution_count": 2,
   "id": "d611112d-c14a-4ea9-b91a-f81254e67651",
   "metadata": {},
   "outputs": [
    {
     "name": "stdout",
     "output_type": "stream",
     "text": [
      "Defaulting to user installation because normal site-packages is not writeable\n",
      "Looking in indexes: https://pypi.org/simple, https://pypi.ngc.nvidia.com\n",
      "Requirement already satisfied: torch_harmonics in /home/ptribel/.local/lib/python3.10/site-packages (0.6.5)\n",
      "Requirement already satisfied: torch in /opt/conda/lib/python3.10/site-packages (from torch_harmonics) (2.0.1)\n",
      "Requirement already satisfied: numpy in /opt/conda/lib/python3.10/site-packages (from torch_harmonics) (1.26.4)\n",
      "Requirement already satisfied: triton in /opt/conda/lib/python3.10/site-packages (from torch_harmonics) (2.0.0)\n",
      "Requirement already satisfied: filelock in /opt/conda/lib/python3.10/site-packages (from torch->torch_harmonics) (3.13.2)\n",
      "Requirement already satisfied: typing-extensions in /opt/conda/lib/python3.10/site-packages (from torch->torch_harmonics) (4.10.0)\n",
      "Requirement already satisfied: sympy in /opt/conda/lib/python3.10/site-packages (from torch->torch_harmonics) (1.12)\n",
      "Requirement already satisfied: networkx in /opt/conda/lib/python3.10/site-packages (from torch->torch_harmonics) (3.3)\n",
      "Requirement already satisfied: jinja2 in /opt/conda/lib/python3.10/site-packages (from torch->torch_harmonics) (3.1.3)\n",
      "Requirement already satisfied: cmake in /home/ptribel/.local/lib/python3.10/site-packages (from triton->torch_harmonics) (3.29.6)\n",
      "Requirement already satisfied: lit in /home/ptribel/.local/lib/python3.10/site-packages (from triton->torch_harmonics) (18.1.8)\n",
      "Requirement already satisfied: MarkupSafe>=2.0 in /opt/conda/lib/python3.10/site-packages (from jinja2->torch->torch_harmonics) (2.1.5)\n",
      "Requirement already satisfied: mpmath>=0.19 in /opt/conda/lib/python3.10/site-packages (from sympy->torch->torch_harmonics) (1.3.0)\n"
     ]
    }
   ],
   "source": [
    "!pip install torch_harmonics"
   ]
  },
  {
   "cell_type": "code",
   "execution_count": 3,
   "id": "0bceadb5-81e5-472a-9f4a-3c7c47523063",
   "metadata": {},
   "outputs": [],
   "source": [
    "from neuralop.models import *\n",
    "from neuralop import Trainer\n",
    "from neuralop import LpLoss, H1Loss\n",
    "import torch\n",
    "import torch.nn as nn\n",
    "from torch.utils.data import DataLoader\n",
    "import torch.optim as optim"
   ]
  },
  {
   "cell_type": "code",
   "execution_count": 5,
   "id": "920e97c7-d446-4e3c-8d3d-596832cd54f2",
   "metadata": {},
   "outputs": [],
   "source": [
    "stead = sbd.STEAD(component_order='ZNE')"
   ]
  },
  {
   "cell_type": "code",
   "execution_count": 6,
   "id": "6c39e272-c30e-457f-861f-896804ebdf41",
   "metadata": {},
   "outputs": [
    {
     "name": "stdout",
     "output_type": "stream",
     "text": [
      "STEAD - 1075808 traces\n",
      "STEAD - 63283 traces\n",
      "STEAD - 126566 traces\n"
     ]
    }
   ],
   "source": [
    "train, dev, test = stead.train_dev_test()\n",
    "print(train)\n",
    "print(dev)\n",
    "print(test)"
   ]
  },
  {
   "cell_type": "code",
   "execution_count": 7,
   "id": "dff4669d-edef-49ce-b369-4f0c890d73b5",
   "metadata": {},
   "outputs": [],
   "source": [
    "surface_stations = np.load(\"surface_stations.npy\")\n",
    "surface_stations = np.array(list(set([i[:-4] for i in surface_stations])))"
   ]
  },
  {
   "cell_type": "code",
   "execution_count": 8,
   "id": "4b5dde27-05d9-4fc7-b095-c4f8bf34af8c",
   "metadata": {},
   "outputs": [],
   "source": [
    "def read_snr(x):\n",
    "    x = x[1:-1]\n",
    "    return [float(i) for i in x.split(\" \") if i != \"\"]"
   ]
  },
  {
   "cell_type": "markdown",
   "id": "3e403979-5cef-4758-965a-f27bbd02c139",
   "metadata": {},
   "source": [
    "https://github.com/smousavi05/Deep-Bays-Loc/blob/main/ENZ_checker.py"
   ]
  },
  {
   "cell_type": "code",
   "execution_count": 9,
   "id": "55f7f97f-b3f8-4afa-a96d-950ad257184e",
   "metadata": {},
   "outputs": [],
   "source": [
    "MAX_DISTANCE = 1#110\n",
    "def filter_data(data):\n",
    "    data.filter(data.metadata[\"source_distance_km\"].notnull())\n",
    "    data.filter(data.metadata[\"source_magnitude\"].notnull())\n",
    "    data.filter(data.metadata[\"path_back_azimuth_deg\"].notnull())\n",
    "    data.filter(data.metadata[\"trace_sampling_rate_hz\"] == 100)\n",
    "    data.filter(data.metadata[\"source_distance_km\"] <= MAX_DISTANCE)\n",
    "    #data.filter(data.metadata[\"trace_p_arrival_sample\"] >= 20)\n",
    "    data.filter(data.metadata[\"source_magnitude\"] > 0)\n",
    "    #data.filter(data.metadata[\"source_magnitude\"] < 4)\n",
    "    data.metadata[\"trace_snr_db\"] = data.metadata[\"trace_snr_db\"].apply(lambda x: np.min(read_snr(x)))\n",
    "    data.filter(data.metadata[\"trace_snr_db\"] >= 25)\n",
    "    data.metadata[\"surface_code\"] = data.metadata[\"station_network_code\"] + \"_\" + data.metadata[\"station_code\"]\n",
    "    data.filter(np.array([i in surface_stations for i in data.metadata[\"surface_code\"]]))\n",
    "\n",
    "filter_data(train)\n",
    "filter_data(dev)\n",
    "filter_data(test)"
   ]
  },
  {
   "cell_type": "code",
   "execution_count": 10,
   "id": "4349f8a6-6a38-4bc1-8d9b-3e368e131cc2",
   "metadata": {},
   "outputs": [
    {
     "name": "stdout",
     "output_type": "stream",
     "text": [
      "STEAD - 3528 traces\n",
      "STEAD - 192 traces\n",
      "STEAD - 416 traces\n"
     ]
    }
   ],
   "source": [
    "print(train)\n",
    "print(dev)\n",
    "print(test)"
   ]
  },
  {
   "cell_type": "code",
   "execution_count": 11,
   "id": "e6ab7287-a17c-4ff8-9159-f568c9e9031d",
   "metadata": {},
   "outputs": [],
   "source": [
    "def prepare_control(dataset):\n",
    "    control = []\n",
    "    for i in range(len(dataset)):\n",
    "        row = dataset.metadata.iloc[i]\n",
    "        control_row = {\"trace_name\": row[\"trace_name\"],\n",
    "                       \"start_sample\": row[\"trace_p_arrival_sample\"]-5,\n",
    "                       \"end_sample\": row[\"trace_p_arrival_sample\"]+25}\n",
    "        control.append(control_row)\n",
    "    return control\n",
    "\n",
    "train_control = pd.DataFrame(prepare_control(train))\n",
    "dev_control = pd.DataFrame(prepare_control(dev))\n",
    "test_control = pd.DataFrame(prepare_control(test))"
   ]
  },
  {
   "cell_type": "code",
   "execution_count": 12,
   "id": "d8bf119e-bc78-477c-9231-ba6124af10fd",
   "metadata": {},
   "outputs": [
    {
     "data": {
      "text/plain": [
       "<seisbench.generate.windows.SteeredWindow at 0x7f6bdc933550>"
      ]
     },
     "execution_count": 12,
     "metadata": {},
     "output_type": "execute_result"
    }
   ],
   "source": [
    "train_generator = sbg.SteeredGenerator(train, train_control)\n",
    "dev_generator = sbg.SteeredGenerator(dev, dev_control)\n",
    "test_generator = sbg.SteeredGenerator(test, test_control)\n",
    "\n",
    "@test_generator.augmentation\n",
    "@dev_generator.augmentation\n",
    "@train_generator.augmentation\n",
    "def add_augmentation(state_dict):\n",
    "    state_dict[\"ps\"] = (torch.tensor([state_dict['X'][1][\"trace_s_arrival_sample\"]-state_dict['X'][1][\"trace_p_arrival_sample\"]]), None)\n",
    "    state_dict[\"y\"] = (torch.tensor([state_dict['X'][1][\"station_latitude_deg\"]-state_dict['X'][1][\"source_latitude_deg\"],\n",
    "                                    state_dict['X'][1][\"station_longitude_deg\"]-state_dict['X'][1][\"source_longitude_deg\"]]),\n",
    "                       None)\n",
    "\n",
    "train_generator.augmentation(sbg.Normalize(detrend_axis=-1, amp_norm_axis=-1))\n",
    "dev_generator.augmentation(sbg.Normalize(detrend_axis=-1, amp_norm_axis=-1))\n",
    "test_generator.augmentation(sbg.Normalize(detrend_axis=-1, amp_norm_axis=-1))\n",
    "\n",
    "windowlen = 30\n",
    "train_generator.augmentation(sbg.SteeredWindow(windowlen=windowlen))\n",
    "dev_generator.augmentation(sbg.SteeredWindow(windowlen=windowlen))\n",
    "test_generator.augmentation(sbg.SteeredWindow(windowlen=windowlen))"
   ]
  },
  {
   "cell_type": "code",
   "execution_count": 13,
   "id": "0f2dce98-3e50-44b6-87a5-10057330e826",
   "metadata": {},
   "outputs": [],
   "source": [
    "train_loader = DataLoader(train_generator, batch_size=32, shuffle=True)\n",
    "dev_loader = DataLoader(dev_generator, batch_size=len(dev_generator), shuffle=False)\n",
    "test_loader = DataLoader(test_generator, batch_size=1000, shuffle=False)"
   ]
  },
  {
   "cell_type": "code",
   "execution_count": 14,
   "id": "45805fae-56ca-4da8-96f6-9e2c82554926",
   "metadata": {},
   "outputs": [
    {
     "data": {
      "image/png": "[encoded data removed]",
      "text/plain": [
       "<Figure size 640x480 with 1 Axes>"
      ]
     },
     "metadata": {},
     "output_type": "display_data"
    }
   ],
   "source": [
    "item = 0\n",
    "plt.plot(train_generator[item]['X'].T)\n",
    "plt.title(str(train_generator[item]['y']))\n",
    "plt.legend([\"Vertical\", \"North/South\", \"West/East\"])\n",
    "plt.show()"
   ]
  },
  {
   "cell_type": "code",
   "execution_count": 15,
   "id": "10cfc289-e3ec-4a82-a6ac-ac35db5f33bc",
   "metadata": {},
   "outputs": [],
   "source": [
    "torch.set_default_dtype(torch.float32)\n",
    "\n",
    "class FNORegressor(nn.Module):\n",
    "    def __init__(self):\n",
    "        super().__init__()\n",
    "        self.fno = FNO1d(n_modes_height=32,\n",
    "                        hidden_channels=16,\n",
    "                        in_channels=3,\n",
    "                        out_channels=3,\n",
    "                        n_layers=12)\n",
    "\n",
    "        self.d = nn.Dropout(0.3)\n",
    "\n",
    "        self.flatten = nn.Flatten()\n",
    "        self.tanh = nn.Tanh()\n",
    "        self.mlp1 = nn.Linear(3*30, 25)\n",
    "        self.mlp2 = nn.Linear(25+1, 2)\n",
    "        \n",
    "    def forward(self, x, ps):\n",
    "        x = self.d(self.tanh(self.fno(x)))\n",
    "        return self.mlp2(torch.concatenate([self.d(self.tanh(self.mlp1(self.flatten(x)))), ps], axis=1))\n",
    "\n",
    "class TCNRegressor(nn.Module):\n",
    "    def __init__(self):\n",
    "        super().__init__()\n",
    "        \n",
    "        self.c0 = nn.Conv1d(in_channels=3, out_channels=6, kernel_size=3, padding=1)\n",
    "        self.c1 = nn.Conv1d(in_channels=6, out_channels=12, kernel_size=3, padding=1)\n",
    "        self.c2 = nn.Conv1d(in_channels=12, out_channels=24, kernel_size=3, padding=1)\n",
    "\n",
    "        self.d = nn.Dropout(0.3)\n",
    "\n",
    "        self.flatten = nn.Flatten()\n",
    "        self.tanh = nn.Tanh()\n",
    "        self.mlp1 = nn.Linear(24*30, 25)\n",
    "        self.mlp2 = nn.Linear(25+1, 2)\n",
    "        \n",
    "    def forward(self, x, ps):\n",
    "        x = self.d(self.tanh(self.c0(x)))\n",
    "        x = self.d(self.tanh(self.c1(x)))\n",
    "        x = self.d(self.tanh(self.c2(x)))\n",
    "        return self.mlp2(torch.concatenate([self.d(self.tanh(self.mlp1(self.flatten(x)))), ps], axis=1))\n",
    "\n",
    "class CNNRegressor(nn.Module):\n",
    "    def __init__(self):\n",
    "        super().__init__()\n",
    "        \n",
    "        self.c0 = nn.Conv2d(in_channels=1, out_channels=6, kernel_size=3, padding=1)\n",
    "        self.c1 = nn.Conv2d(in_channels=6, out_channels=12, kernel_size=3, padding=1)\n",
    "        self.c2 = nn.Conv2d(in_channels=12, out_channels=24, kernel_size=3, padding=1)\n",
    "\n",
    "        self.d = nn.Dropout(0.3)\n",
    "\n",
    "        self.flatten = nn.Flatten()\n",
    "        self.tanh = nn.Tanh()\n",
    "        self.mlp1 = nn.Linear(2160, 25)\n",
    "        self.mlp2 = nn.Linear(25+1, 2)\n",
    "        \n",
    "    def forward(self, x, ps):\n",
    "        x = x.unsqueeze(1)\n",
    "        x = self.d(self.tanh(self.c0(x)))\n",
    "        x = self.d(self.tanh(self.c1(x)))\n",
    "        x = self.d(self.tanh(self.c2(x)))\n",
    "        return self.mlp2(torch.concatenate([self.d(self.tanh(self.mlp1(self.flatten(x)))), ps], axis=1))\n",
    "\n",
    "class MLPRegressor(nn.Module):\n",
    "    def __init__(self):\n",
    "        super().__init__()\n",
    "        \n",
    "        self.c0 = nn.Linear(30, 64)\n",
    "        self.c1 = nn.Linear(64, 32)\n",
    "        self.c2 = nn.Linear(32, 16)\n",
    "\n",
    "        self.d = nn.Dropout(0.3)\n",
    "        \n",
    "        self.flatten = nn.Flatten()\n",
    "        self.tanh = nn.Tanh()\n",
    "        self.mlp1 = nn.Linear(16*3, 8)\n",
    "        self.mlp2 = nn.Linear(8+1, 2)\n",
    "        \n",
    "    def forward(self, x, ps):\n",
    "        x = x.unsqueeze(1)\n",
    "        x = self.d(self.tanh(self.c0(x)))\n",
    "        x = self.d(self.tanh(self.c1(x)))\n",
    "        x = self.d(self.tanh(self.c2(x)))\n",
    "        return self.mlp2(torch.concatenate([self.d(self.tanh(self.mlp1(self.flatten(x)))), ps], axis=1))\n"
   ]
  },
  {
   "cell_type": "code",
   "execution_count": 17,
   "id": "fa94ac24-daca-49dd-8575-c63553e068f9",
   "metadata": {},
   "outputs": [],
   "source": [
    "def deg_to_km(x):\n",
    "    return torch.tan(x*(2*np.pi/360))*6371"
   ]
  },
  {
   "cell_type": "code",
   "execution_count": 21,
   "id": "416e3e8c-a078-4c4b-a436-f516b23ee908",
   "metadata": {},
   "outputs": [],
   "source": [
    "device = 'cpu'"
   ]
  },
  {
   "cell_type": "code",
   "execution_count": 22,
   "id": "0f88283c-4dd8-4e5a-a34b-8a77983b94b1",
   "metadata": {},
   "outputs": [
    {
     "data": {
      "application/vnd.jupyter.widget-view+json": {
       "model_id": "4481a3daee544439b617cbb3774a3b90",
       "version_major": 2,
       "version_minor": 0
      },
      "text/plain": [
       "  0%|          | 0/2 [00:00<?, ?it/s]"
      ]
     },
     "metadata": {},
     "output_type": "display_data"
    },
    {
     "data": {
      "application/vnd.jupyter.widget-view+json": {
       "model_id": "9ff00df1aeb54196949bc31f5f762c6a",
       "version_major": 2,
       "version_minor": 0
      },
      "text/plain": [
       "  0%|          | 0/111 [00:00<?, ?it/s]"
      ]
     },
     "metadata": {},
     "output_type": "display_data"
    },
    {
     "ename": "KeyboardInterrupt",
     "evalue": "",
     "output_type": "error",
     "traceback": [
      "\u001b[0;31m---------------------------------------------------------------------------\u001b[0m",
      "\u001b[0;31mKeyboardInterrupt\u001b[0m                         Traceback (most recent call last)",
      "Cell \u001b[0;32mIn[22], line 11\u001b[0m\n\u001b[1;32m      9\u001b[0m \u001b[38;5;28;01mfor\u001b[39;00m epoch \u001b[38;5;129;01min\u001b[39;00m tqdm(\u001b[38;5;28mrange\u001b[39m(num_epochs)):\n\u001b[1;32m     10\u001b[0m     epoch_losses \u001b[38;5;241m=\u001b[39m []\n\u001b[0;32m---> 11\u001b[0m     \u001b[38;5;28;01mfor\u001b[39;00m batch \u001b[38;5;129;01min\u001b[39;00m (pbar\u001b[38;5;241m:=\u001b[39mtqdm(train_loader)):\n\u001b[1;32m     12\u001b[0m         optimizer\u001b[38;5;241m.\u001b[39mzero_grad()\n\u001b[1;32m     13\u001b[0m         outputs \u001b[38;5;241m=\u001b[39m model(batch[\u001b[38;5;124m'\u001b[39m\u001b[38;5;124mX\u001b[39m\u001b[38;5;124m'\u001b[39m]\u001b[38;5;241m.\u001b[39mto(device), batch[\u001b[38;5;124m'\u001b[39m\u001b[38;5;124mps\u001b[39m\u001b[38;5;124m'\u001b[39m]\u001b[38;5;241m.\u001b[39mto(device, dtype\u001b[38;5;241m=\u001b[39mtorch\u001b[38;5;241m.\u001b[39mfloat32))\n",
      "File \u001b[0;32m/opt/conda/lib/python3.10/site-packages/tqdm/notebook.py:250\u001b[0m, in \u001b[0;36mtqdm_notebook.__iter__\u001b[0;34m(self)\u001b[0m\n\u001b[1;32m    248\u001b[0m \u001b[38;5;28;01mtry\u001b[39;00m:\n\u001b[1;32m    249\u001b[0m     it \u001b[38;5;241m=\u001b[39m \u001b[38;5;28msuper\u001b[39m(tqdm_notebook, \u001b[38;5;28mself\u001b[39m)\u001b[38;5;241m.\u001b[39m\u001b[38;5;21m__iter__\u001b[39m()\n\u001b[0;32m--> 250\u001b[0m     \u001b[38;5;28;01mfor\u001b[39;00m obj \u001b[38;5;129;01min\u001b[39;00m it:\n\u001b[1;32m    251\u001b[0m         \u001b[38;5;66;03m# return super(tqdm...) will not catch exception\u001b[39;00m\n\u001b[1;32m    252\u001b[0m         \u001b[38;5;28;01myield\u001b[39;00m obj\n\u001b[1;32m    253\u001b[0m \u001b[38;5;66;03m# NB: except ... [ as ...] breaks IPython async KeyboardInterrupt\u001b[39;00m\n",
      "File \u001b[0;32m/opt/conda/lib/python3.10/site-packages/tqdm/std.py:1181\u001b[0m, in \u001b[0;36mtqdm.__iter__\u001b[0;34m(self)\u001b[0m\n\u001b[1;32m   1178\u001b[0m time \u001b[38;5;241m=\u001b[39m \u001b[38;5;28mself\u001b[39m\u001b[38;5;241m.\u001b[39m_time\n\u001b[1;32m   1180\u001b[0m \u001b[38;5;28;01mtry\u001b[39;00m:\n\u001b[0;32m-> 1181\u001b[0m     \u001b[38;5;28;01mfor\u001b[39;00m obj \u001b[38;5;129;01min\u001b[39;00m iterable:\n\u001b[1;32m   1182\u001b[0m         \u001b[38;5;28;01myield\u001b[39;00m obj\n\u001b[1;32m   1183\u001b[0m         \u001b[38;5;66;03m# Update and possibly print the progressbar.\u001b[39;00m\n\u001b[1;32m   1184\u001b[0m         \u001b[38;5;66;03m# Note: does not call self.update(1) for speed optimisation.\u001b[39;00m\n",
      "File \u001b[0;32m/opt/conda/lib/python3.10/site-packages/torch/utils/data/dataloader.py:633\u001b[0m, in \u001b[0;36m_BaseDataLoaderIter.__next__\u001b[0;34m(self)\u001b[0m\n\u001b[1;32m    630\u001b[0m \u001b[38;5;28;01mif\u001b[39;00m \u001b[38;5;28mself\u001b[39m\u001b[38;5;241m.\u001b[39m_sampler_iter \u001b[38;5;129;01mis\u001b[39;00m \u001b[38;5;28;01mNone\u001b[39;00m:\n\u001b[1;32m    631\u001b[0m     \u001b[38;5;66;03m# TODO(https://github.com/pytorch/pytorch/issues/76750)\u001b[39;00m\n\u001b[1;32m    632\u001b[0m     \u001b[38;5;28mself\u001b[39m\u001b[38;5;241m.\u001b[39m_reset()  \u001b[38;5;66;03m# type: ignore[call-arg]\u001b[39;00m\n\u001b[0;32m--> 633\u001b[0m data \u001b[38;5;241m=\u001b[39m \u001b[38;5;28;43mself\u001b[39;49m\u001b[38;5;241;43m.\u001b[39;49m\u001b[43m_next_data\u001b[49m\u001b[43m(\u001b[49m\u001b[43m)\u001b[49m\n\u001b[1;32m    634\u001b[0m \u001b[38;5;28mself\u001b[39m\u001b[38;5;241m.\u001b[39m_num_yielded \u001b[38;5;241m+\u001b[39m\u001b[38;5;241m=\u001b[39m \u001b[38;5;241m1\u001b[39m\n\u001b[1;32m    635\u001b[0m \u001b[38;5;28;01mif\u001b[39;00m \u001b[38;5;28mself\u001b[39m\u001b[38;5;241m.\u001b[39m_dataset_kind \u001b[38;5;241m==\u001b[39m _DatasetKind\u001b[38;5;241m.\u001b[39mIterable \u001b[38;5;129;01mand\u001b[39;00m \\\n\u001b[1;32m    636\u001b[0m         \u001b[38;5;28mself\u001b[39m\u001b[38;5;241m.\u001b[39m_IterableDataset_len_called \u001b[38;5;129;01mis\u001b[39;00m \u001b[38;5;129;01mnot\u001b[39;00m \u001b[38;5;28;01mNone\u001b[39;00m \u001b[38;5;129;01mand\u001b[39;00m \\\n\u001b[1;32m    637\u001b[0m         \u001b[38;5;28mself\u001b[39m\u001b[38;5;241m.\u001b[39m_num_yielded \u001b[38;5;241m>\u001b[39m \u001b[38;5;28mself\u001b[39m\u001b[38;5;241m.\u001b[39m_IterableDataset_len_called:\n",
      "File \u001b[0;32m/opt/conda/lib/python3.10/site-packages/torch/utils/data/dataloader.py:677\u001b[0m, in \u001b[0;36m_SingleProcessDataLoaderIter._next_data\u001b[0;34m(self)\u001b[0m\n\u001b[1;32m    675\u001b[0m \u001b[38;5;28;01mdef\u001b[39;00m \u001b[38;5;21m_next_data\u001b[39m(\u001b[38;5;28mself\u001b[39m):\n\u001b[1;32m    676\u001b[0m     index \u001b[38;5;241m=\u001b[39m \u001b[38;5;28mself\u001b[39m\u001b[38;5;241m.\u001b[39m_next_index()  \u001b[38;5;66;03m# may raise StopIteration\u001b[39;00m\n\u001b[0;32m--> 677\u001b[0m     data \u001b[38;5;241m=\u001b[39m \u001b[38;5;28;43mself\u001b[39;49m\u001b[38;5;241;43m.\u001b[39;49m\u001b[43m_dataset_fetcher\u001b[49m\u001b[38;5;241;43m.\u001b[39;49m\u001b[43mfetch\u001b[49m\u001b[43m(\u001b[49m\u001b[43mindex\u001b[49m\u001b[43m)\u001b[49m  \u001b[38;5;66;03m# may raise StopIteration\u001b[39;00m\n\u001b[1;32m    678\u001b[0m     \u001b[38;5;28;01mif\u001b[39;00m \u001b[38;5;28mself\u001b[39m\u001b[38;5;241m.\u001b[39m_pin_memory:\n\u001b[1;32m    679\u001b[0m         data \u001b[38;5;241m=\u001b[39m _utils\u001b[38;5;241m.\u001b[39mpin_memory\u001b[38;5;241m.\u001b[39mpin_memory(data, \u001b[38;5;28mself\u001b[39m\u001b[38;5;241m.\u001b[39m_pin_memory_device)\n",
      "File \u001b[0;32m/opt/conda/lib/python3.10/site-packages/torch/utils/data/_utils/fetch.py:51\u001b[0m, in \u001b[0;36m_MapDatasetFetcher.fetch\u001b[0;34m(self, possibly_batched_index)\u001b[0m\n\u001b[1;32m     49\u001b[0m         data \u001b[38;5;241m=\u001b[39m \u001b[38;5;28mself\u001b[39m\u001b[38;5;241m.\u001b[39mdataset\u001b[38;5;241m.\u001b[39m__getitems__(possibly_batched_index)\n\u001b[1;32m     50\u001b[0m     \u001b[38;5;28;01melse\u001b[39;00m:\n\u001b[0;32m---> 51\u001b[0m         data \u001b[38;5;241m=\u001b[39m [\u001b[38;5;28mself\u001b[39m\u001b[38;5;241m.\u001b[39mdataset[idx] \u001b[38;5;28;01mfor\u001b[39;00m idx \u001b[38;5;129;01min\u001b[39;00m possibly_batched_index]\n\u001b[1;32m     52\u001b[0m \u001b[38;5;28;01melse\u001b[39;00m:\n\u001b[1;32m     53\u001b[0m     data \u001b[38;5;241m=\u001b[39m \u001b[38;5;28mself\u001b[39m\u001b[38;5;241m.\u001b[39mdataset[possibly_batched_index]\n",
      "File \u001b[0;32m/opt/conda/lib/python3.10/site-packages/torch/utils/data/_utils/fetch.py:51\u001b[0m, in \u001b[0;36m<listcomp>\u001b[0;34m(.0)\u001b[0m\n\u001b[1;32m     49\u001b[0m         data \u001b[38;5;241m=\u001b[39m \u001b[38;5;28mself\u001b[39m\u001b[38;5;241m.\u001b[39mdataset\u001b[38;5;241m.\u001b[39m__getitems__(possibly_batched_index)\n\u001b[1;32m     50\u001b[0m     \u001b[38;5;28;01melse\u001b[39;00m:\n\u001b[0;32m---> 51\u001b[0m         data \u001b[38;5;241m=\u001b[39m [\u001b[38;5;28;43mself\u001b[39;49m\u001b[38;5;241;43m.\u001b[39;49m\u001b[43mdataset\u001b[49m\u001b[43m[\u001b[49m\u001b[43midx\u001b[49m\u001b[43m]\u001b[49m \u001b[38;5;28;01mfor\u001b[39;00m idx \u001b[38;5;129;01min\u001b[39;00m possibly_batched_index]\n\u001b[1;32m     52\u001b[0m \u001b[38;5;28;01melse\u001b[39;00m:\n\u001b[1;32m     53\u001b[0m     data \u001b[38;5;241m=\u001b[39m \u001b[38;5;28mself\u001b[39m\u001b[38;5;241m.\u001b[39mdataset[possibly_batched_index]\n",
      "File \u001b[0;32m~/.local/lib/python3.10/site-packages/seisbench/generate/generator.py:77\u001b[0m, in \u001b[0;36mGenericGenerator.__getitem__\u001b[0;34m(self, idx)\u001b[0m\n\u001b[1;32m     75\u001b[0m \u001b[38;5;66;03m# Recursive application of augmentation processing methods\u001b[39;00m\n\u001b[1;32m     76\u001b[0m \u001b[38;5;28;01mfor\u001b[39;00m func \u001b[38;5;129;01min\u001b[39;00m \u001b[38;5;28mself\u001b[39m\u001b[38;5;241m.\u001b[39m_augmentations:\n\u001b[0;32m---> 77\u001b[0m     \u001b[43mfunc\u001b[49m\u001b[43m(\u001b[49m\u001b[43mstate_dict\u001b[49m\u001b[43m)\u001b[49m\n\u001b[1;32m     79\u001b[0m state_dict \u001b[38;5;241m=\u001b[39m \u001b[38;5;28mself\u001b[39m\u001b[38;5;241m.\u001b[39m_clean_state_dict(state_dict)\n\u001b[1;32m     81\u001b[0m \u001b[38;5;28;01mreturn\u001b[39;00m state_dict\n",
      "File \u001b[0;32m~/.local/lib/python3.10/site-packages/seisbench/generate/augmentation.py:70\u001b[0m, in \u001b[0;36mNormalize.__call__\u001b[0;34m(self, state_dict)\u001b[0m\n\u001b[1;32m     68\u001b[0m \u001b[38;5;28;01melse\u001b[39;00m:\n\u001b[1;32m     69\u001b[0m     x \u001b[38;5;241m=\u001b[39m \u001b[38;5;28mself\u001b[39m\u001b[38;5;241m.\u001b[39m_demean(x)\n\u001b[0;32m---> 70\u001b[0m     x \u001b[38;5;241m=\u001b[39m \u001b[38;5;28;43mself\u001b[39;49m\u001b[38;5;241;43m.\u001b[39;49m\u001b[43m_detrend\u001b[49m\u001b[43m(\u001b[49m\u001b[43mx\u001b[49m\u001b[43m)\u001b[49m\n\u001b[1;32m     71\u001b[0m     x \u001b[38;5;241m=\u001b[39m \u001b[38;5;28mself\u001b[39m\u001b[38;5;241m.\u001b[39m_amp_norm(x)\n\u001b[1;32m     73\u001b[0m state_dict[\u001b[38;5;28mself\u001b[39m\u001b[38;5;241m.\u001b[39mkey[\u001b[38;5;241m1\u001b[39m]] \u001b[38;5;241m=\u001b[39m (x, metadata)\n",
      "File \u001b[0;32m~/.local/lib/python3.10/site-packages/seisbench/generate/augmentation.py:82\u001b[0m, in \u001b[0;36mNormalize._detrend\u001b[0;34m(self, x)\u001b[0m\n\u001b[1;32m     80\u001b[0m \u001b[38;5;28;01mdef\u001b[39;00m \u001b[38;5;21m_detrend\u001b[39m(\u001b[38;5;28mself\u001b[39m, x):\n\u001b[1;32m     81\u001b[0m     \u001b[38;5;28;01mif\u001b[39;00m \u001b[38;5;28mself\u001b[39m\u001b[38;5;241m.\u001b[39mdetrend_axis \u001b[38;5;129;01mis\u001b[39;00m \u001b[38;5;129;01mnot\u001b[39;00m \u001b[38;5;28;01mNone\u001b[39;00m:\n\u001b[0;32m---> 82\u001b[0m         x \u001b[38;5;241m=\u001b[39m \u001b[43mscipy\u001b[49m\u001b[38;5;241;43m.\u001b[39;49m\u001b[43msignal\u001b[49m\u001b[38;5;241;43m.\u001b[39;49m\u001b[43mdetrend\u001b[49m\u001b[43m(\u001b[49m\u001b[43mx\u001b[49m\u001b[43m,\u001b[49m\u001b[43m \u001b[49m\u001b[43maxis\u001b[49m\u001b[38;5;241;43m=\u001b[39;49m\u001b[38;5;28;43mself\u001b[39;49m\u001b[38;5;241;43m.\u001b[39;49m\u001b[43mdetrend_axis\u001b[49m\u001b[43m)\u001b[49m\n\u001b[1;32m     83\u001b[0m     \u001b[38;5;28;01mreturn\u001b[39;00m x\n",
      "File \u001b[0;32m/opt/conda/lib/python3.10/site-packages/scipy/signal/_signaltools.py:3600\u001b[0m, in \u001b[0;36mdetrend\u001b[0;34m(data, axis, type, bp, overwrite_data)\u001b[0m\n\u001b[1;32m   3598\u001b[0m A \u001b[38;5;241m=\u001b[39m np\u001b[38;5;241m.\u001b[39mones((Npts, \u001b[38;5;241m2\u001b[39m), dtype)\n\u001b[1;32m   3599\u001b[0m A[:, \u001b[38;5;241m0\u001b[39m] \u001b[38;5;241m=\u001b[39m np\u001b[38;5;241m.\u001b[39marange(\u001b[38;5;241m1\u001b[39m, Npts \u001b[38;5;241m+\u001b[39m \u001b[38;5;241m1\u001b[39m, dtype\u001b[38;5;241m=\u001b[39mdtype) \u001b[38;5;241m/\u001b[39m Npts\n\u001b[0;32m-> 3600\u001b[0m sl \u001b[38;5;241m=\u001b[39m \u001b[38;5;28;43mslice\u001b[39;49m\u001b[43m(\u001b[49m\u001b[43mbp\u001b[49m\u001b[43m[\u001b[49m\u001b[43mm\u001b[49m\u001b[43m]\u001b[49m\u001b[43m,\u001b[49m\u001b[43m \u001b[49m\u001b[43mbp\u001b[49m\u001b[43m[\u001b[49m\u001b[43mm\u001b[49m\u001b[43m \u001b[49m\u001b[38;5;241;43m+\u001b[39;49m\u001b[43m \u001b[49m\u001b[38;5;241;43m1\u001b[39;49m\u001b[43m]\u001b[49m\u001b[43m)\u001b[49m\n\u001b[1;32m   3601\u001b[0m coef, resids, rank, s \u001b[38;5;241m=\u001b[39m linalg\u001b[38;5;241m.\u001b[39mlstsq(A, newdata[sl])\n\u001b[1;32m   3602\u001b[0m newdata[sl] \u001b[38;5;241m=\u001b[39m newdata[sl] \u001b[38;5;241m-\u001b[39m A \u001b[38;5;241m@\u001b[39m coef\n",
      "\u001b[0;31mKeyboardInterrupt\u001b[0m: "
     ]
    }
   ],
   "source": [
    "num_epochs = 2\n",
    "min_losses = []\n",
    "for model in [FNORegressor().to(device), TCNRegressor().to(device), CNNRegressor().to(device), MLPRegressor().to(device)]:\n",
    "    criterion = nn.MSELoss()\n",
    "    l1 = nn.L1Loss()\n",
    "    optimizer = optim.AdamW(model.parameters(), lr=0.0005)\n",
    "    scheduler = optim.lr_scheduler.CosineAnnealingLR(optimizer, T_max=30)\n",
    "    losses = []\n",
    "    for epoch in tqdm(range(num_epochs)):\n",
    "        epoch_losses = []\n",
    "        for batch in (pbar:=tqdm(train_loader)):\n",
    "            optimizer.zero_grad()\n",
    "            outputs = model(batch['X'].to(device), batch['ps'].to(device, dtype=torch.float32))\n",
    "            loss = criterion(outputs, batch['y'].to(device, dtype=torch.float32))\n",
    "            epoch_losses.append(deg_to_km(l1(outputs, batch['y'].to(device, dtype=torch.float32))).item())\n",
    "            loss.backward()\n",
    "            optimizer.step()\n",
    "            pbar.set_description(f'Epoch {epoch}/{num_epochs}: ' + f\"Loss: %.5f km\"%(np.mean(epoch_losses)))\n",
    "        losses.append(np.mean(epoch_losses))\n",
    "        scheduler.step()\n",
    "    min_losses.append(min(losses))"
   ]
  },
  {
   "cell_type": "code",
   "execution_count": 20,
   "id": "20cdcab2-b704-451b-aa2e-0e5c162bd579",
   "metadata": {},
   "outputs": [
    {
     "data": {
      "text/plain": [
       "[133.26293670379363, 144.47558401296806, 60.08408895269171, 704.8031000360712]"
      ]
     },
     "execution_count": 20,
     "metadata": {},
     "output_type": "execute_result"
    }
   ],
   "source": [
    "print(min_losses)"
   ]
  },
  {
   "cell_type": "code",
   "execution_count": null,
   "id": "040140a7-4d6b-47c2-9d2a-9a51bc3fc10e",
   "metadata": {},
   "outputs": [],
   "source": [
    "plt.plot(losses[1:])\n",
    "plt.xlabel(\"Epoch\")\n",
    "plt.ylabel(\"MAE\")\n",
    "plt.title(\"Validation MAE evolution\")\n",
    "plt.show()"
   ]
  },
  {
   "cell_type": "code",
   "execution_count": null,
   "id": "99f34f71-57e3-4439-8621-9023d85548b9",
   "metadata": {},
   "outputs": [],
   "source": [
    "iter_test_loader = iter(test_loader)\n",
    "data = next(iter_test_loader)\n",
    "y, y_hat = data['y'], model(data['X'], data['ps']).detach().numpy()"
   ]
  },
  {
   "cell_type": "code",
   "execution_count": null,
   "id": "25778ec4-13c7-437a-9146-b91832b603e1",
   "metadata": {},
   "outputs": [],
   "source": [
    "plt.hist(np.array(y_hat, copy=False), bins=100)\n",
    "plt.show()"
   ]
  },
  {
   "cell_type": "code",
   "execution_count": null,
   "id": "76cf25d8-1107-4bf6-9d4a-fb052ac4507b",
   "metadata": {},
   "outputs": [],
   "source": [
    "plt.scatter(y[:, 0], y_hat[:, 0], marker='.')\n",
    "plt.scatter(y[:, 1], y_hat[:, 1], marker='.')\n",
    "plt.xlim(-1, 1)\n",
    "plt.ylim(-1, 1)\n",
    "plt.legend([\"x\", \"y\"])\n",
    "plt.xlabel(\"Expected\")\n",
    "plt.ylabel(\"Predicted\")\n",
    "#plt.title(f\"Average distance with ground truth: %.5f km\"%np.mean((((y[:, 0]-y_hat[:, 0])**2) + ((y[:, 1]-y_hat[:, 1])**2))**0.5))\n",
    "plt.show()"
   ]
  },
  {
   "cell_type": "code",
   "execution_count": null,
   "id": "604da020-5feb-4bb5-8e46-83dc588aaebc",
   "metadata": {},
   "outputs": [],
   "source": [
    "for i in range(10):\n",
    "    plt.plot([y[i, 0], y_hat[i, 0]], [y[i, 1], y_hat[i, 1]])\n",
    "plt.xlim(-0.5, 0.5)\n",
    "plt.ylim(-0.5, 0.5)\n",
    "#plt.title(f\"Average distance with ground truth: %.5f km\"%np.mean((((y[:, 0]-y_hat[:, 0])**2) + ((y[:, 1]-y_hat[:, 1])**2))**0.5))\n",
    "plt.show()"
   ]
  },
  {
   "cell_type": "code",
   "execution_count": null,
   "id": "1d2f9e2b-b566-4594-aad3-0833e35ded93",
   "metadata": {},
   "outputs": [],
   "source": []
  }
 ],
 "metadata": {
  "kernelspec": {
   "display_name": "Python 3 (ipykernel)",
   "language": "python",
   "name": "python3"
  },
  "language_info": {
   "codemirror_mode": {
    "name": "ipython",
    "version": 3
   },
   "file_extension": ".py",
   "mimetype": "text/x-python",
   "name": "python",
   "nbconvert_exporter": "python",
   "pygments_lexer": "ipython3",
   "version": "3.10.14"
  }
 },
 "nbformat": 4,
 "nbformat_minor": 5
}
